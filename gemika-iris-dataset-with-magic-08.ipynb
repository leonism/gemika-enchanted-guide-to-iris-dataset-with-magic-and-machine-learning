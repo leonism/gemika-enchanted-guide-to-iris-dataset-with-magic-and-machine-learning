{
 "cells": [
  {
   "cell_type": "markdown",
   "id": "b7354eca-5af5-467d-a879-53fa95b649f3",
   "metadata": {},
   "source": [
    "# Gemika’s Enchanted Guide to Iris Dataset with Magic and Machine Learning 🌟🧙‍♂️ (Part #8)"
   ]
  },
  {
   "cell_type": "markdown",
   "id": "dc16f437-9ce5-46a2-bc52-728517464d23",
   "metadata": {},
   "source": [
    "![Chapter 08](images/chapter-08.jpg \"Chapter 08\")"
   ]
  },
  {
   "cell_type": "markdown",
   "id": "b8a61b9f-f5c1-435c-8c9b-380169aee2f4",
   "metadata": {},
   "source": [
    "Greetings, my brilliant young sorcerers! I’m Professor Gerry Leo Nugroho, your guide through the mystical arts of data science at Hogwarts, and a steadfast friend of Albus Dumbledore. Last time, we twirled into Professor Flitwick’s Charms Class, casting the [K-Nearest Neighbors spell to charm our Iris Dataset](https://dev.to/gerryleonugroho/gemikas-enchanted-guide-to-iris-dataset-with-magic-and-machine-learning-part-7-3fce) into guessing flower types—like finding friends in a crowded Great Hall! 🌸  \n",
    "\n",
    "Now, my little Gryffindor shape-shifter, Gemika Haziq Nugroho, and I are marching to Professor McGonagall’s Transfiguration room. It’s time to turn numbers into a magical tree—wands up, let’s transform! 📚✨"
   ]
  },
  {
   "cell_type": "markdown",
   "id": "b67b008d-9370-45c6-a969-47011c3de50f",
   "metadata": {},
   "source": [
    "---"
   ]
  },
  {
   "cell_type": "markdown",
   "id": "5c06b0ec-8e33-4908-a9f5-4358e1a66930",
   "metadata": {},
   "source": [
    "## Chapter 8: Transfiguration Triumph: Transforming with Decision Trees 🌳🪄  "
   ]
  },
  {
   "cell_type": "markdown",
   "id": "c1846af2-fd9d-499d-bd2e-d6a99d21dbd4",
   "metadata": {},
   "source": [
    "Imagine stepping into the stern yet wondrous Transfiguration classroom, where Professor McGonagall peers over her spectacles, her voice crisp as autumn leaves. “Nugroho,” she says, “today we’ll transfigure this Iris Dataset into a Decision Tree—a map of choices as precise as turning a teacup into a tortoise!” 🌺  \n",
    "\n",
    "With this spell, we’ll grow a tree from our flower traits—petal lengths, sepal widths—branching out with questions like “Is the petal longer than 2.5 cm?” Each branch leads to an answer—`Setosa`, `Versicolor`, or `Virginica`—like a Sorting Hat made of bark and leaves! It’s transfiguration at its finest—numbers into nature, chaos into clarity! 🌿🪄"
   ]
  },
  {
   "cell_type": "markdown",
   "id": "05ad5ace-95b0-4f7e-a17b-27adc947cd5e",
   "metadata": {},
   "source": [
    "---"
   ]
  },
  {
   "cell_type": "markdown",
   "id": "3f7f8e74-5d70-4d3a-b8bf-879f8fca75f6",
   "metadata": {},
   "source": [
    "## 8.1 **The Code & Algorithm: Growing the Decision Tree**  "
   ]
  },
  {
   "cell_type": "markdown",
   "id": "85b7467a-2305-4bc8-8f2b-c49d850bf306",
   "metadata": {},
   "source": [
    "Let’s crack open our spellbook (or `Jupyter Lab`) and cast the `DecisionTreeClassifier` spell from `sklearn`. It’s a charm as elegant as McGonagall’s Animagus form—simple yet powerful! Here’s the magic, with a nod to my eager Gemika:"
   ]
  },
  {
   "cell_type": "code",
   "execution_count": 5,
   "id": "c6a517a9-6589-4b54-b4f2-f78e687c08fe",
   "metadata": {},
   "outputs": [
    {
     "name": "stdout",
     "output_type": "stream",
     "text": [
      "🔍 First few guesses: ['versicolor' 'setosa' 'virginica' 'versicolor' 'versicolor']\n",
      "📜 Real answers: ['versicolor', 'setosa', 'virginica', 'versicolor', 'versicolor']\n",
      "Categories (3, object): ['setosa', 'versicolor', 'virginica']\n"
     ]
    }
   ],
   "source": [
    "import pandas as pd  # 📜 Summoning our magical scroll-handler (pandas)!\n",
    "from sklearn.datasets import load_iris  # 🌸 Summoning the legendary Iris dataset!\n",
    "from sklearn.model_selection import train_test_split  # ✂️ For splitting data like a Sorting Hat!\n",
    "from sklearn.tree import DecisionTreeClassifier  # 🌳 A mystical decision-making tree!\n",
    "\n",
    "# 📜 Unraveling the ancient Iris scroll to uncover its botanical secrets!\n",
    "iris = load_iris()\n",
    "iris_df = pd.DataFrame(data=iris.data, columns=iris.feature_names)  # 🌸 Converting our sacred text into a DataFrame scroll!\n",
    "iris_df['species'] = pd.Categorical.from_codes(iris.target, iris.target_names)  # 🧙‍♂️ Translating numbers into magical species names!\n",
    "\n",
    "# 🏹 Separating the magical traits (features) from their names (labels)\n",
    "X = iris_df.drop('species', axis=1)  # 🌱 Flower traits: Sepal & Petal spells!\n",
    "y = iris_df['species']  # 🌺 The true identity of each bloom!\n",
    "\n",
    "# 🎩✨ The Sorting Hat moment! Randomly assigning blooms to training & test groups!\n",
    "X_train, X_test, y_train, y_test = train_test_split(X, y, test_size=0.2, random_state=42)\n",
    "# 📖 80% of the flowers are for training (learning magic), 20% for testing (proving their skills)!\n",
    "\n",
    "# 🌳 Casting a spell to grow our Decision Tree!\n",
    "tree = DecisionTreeClassifier(max_depth=3, random_state=42)  # A tree with 3 powerful levels!\n",
    "tree.fit(X_train, y_train)  # 🌿 Absorbing knowledge from the training data like an ancient Ent!\n",
    "\n",
    "# 🔮 The tree attempts to predict the future!\n",
    "y_pred = tree.predict(X_test)  # 🌟 Making educated guesses based on training spells!\n",
    "\n",
    "# 🕵️‍♂️ Let’s see if our tree is truly wise!\n",
    "print(\"🔍 First few guesses:\", y_pred[:5])  # 🧙‍♀️ What species does our tree predict?\n",
    "print(\"📜 Real answers:\", y_test[:5].values)  # 📖 Comparing with the actual flower identities!"
   ]
  },
  {
   "cell_type": "markdown",
   "id": "494e99fd-ca62-46ad-aef8-0607c6867ed8",
   "metadata": {},
   "source": [
    "### 8.1.1 What’s Sprouting Here?"
   ]
  },
  {
   "cell_type": "markdown",
   "id": "3ad86a40-4fdb-4da2-b39a-751ed8ef004b",
   "metadata": {},
   "source": [
    "- **`DecisionTreeClassifier(max_depth=3)`**: Plants our tree with a limit—three levels of branches, so it doesn’t grow wild like the Whomping Willow!  \n",
    "- **`.fit(X_train, y_train)`**: Roots the tree in our training data—like teaching it to sort flowers step-by-step!  \n",
    "- **`.predict(X_test)`**: Sends test flowers down the branches—each choice leads to a species, quicker than a Transfiguration spell!  \n",
    "\n",
    "Run this, and you might see:\n",
    "\n",
    "```plaintext\n",
    "First few guesses: ['versicolor' 'setosa' 'virginica' 'versicolor' 'versicolor']\n",
    "Real answers: ['versicolor' 'setosa' 'virginica' 'versicolor' 'versicolor']\n",
    "```  \n",
    "\n",
    "Blimey—our tree’s as sharp as McGonagall’s glare! Perfect guesses—full marks! 🌟🍃  "
   ]
  },
  {
   "cell_type": "markdown",
   "id": "a13a40dd-b7c5-4333-8d45-346403e9565c",
   "metadata": {},
   "source": [
    "---"
   ]
  },
  {
   "cell_type": "markdown",
   "id": "3323a444-f45c-4bcc-8a33-d0d6a8b790e1",
   "metadata": {},
   "source": [
    "### 8.1.2 **🔮 Peering into the Crystal Ball of Predictions**  \n",
    "\n",
    "The tree has spoken! With its deep-rooted wisdom (limited to a depth of 3, for even the mightiest of trees can only stretch so far), it has attempted to foretell the fate of the test flowers. And lo, before our very eyes, it has conjured a sequence of **guesses**—those first few delicate predictions, standing bravely against the actual truths of nature. 🌸  \n",
    "\n",
    "### 8.1.3. The Great Sorting: A Test of the Tree’s Wisdom**\n",
    "Our **y_pred** (the tree’s guesses) are compared against **y_test** (the true species), much like a first-year student clutching their wand for the first time, hoping—nay, **praying**—that they can cast a proper **Lumos** instead of setting their robes on fire.  \n",
    "\n",
    "If our tree is as wise as Dumbledore, we should see most predictions aligning with reality. However, should it falter, we may find mischievous misclassifications lurking like Peeves the Poltergeist, sowing chaos in our botanical records! 🌪️  "
   ]
  },
  {
   "cell_type": "markdown",
   "id": "18412b50-284e-4ba4-8238-222c7708bd79",
   "metadata": {},
   "source": [
    "### 8.1.4 **📜 What Do These Predictions Tell Us?**  \n",
    "Should our predictions match the real labels perfectly, then rejoice, dear scholar, for we have trained a truly sagacious tree, one that knows its petal from its sepal and its virginica from its versicolor. But should errors creep in… well, then, we must consider the limits of our spell:  \n",
    "\n",
    "1. **🌿 The Depth Dilemma**  \n",
    "   Our tree is only **three levels deep**. Had we let it grow unchecked, stretching its limbs toward the heavens, it might have remembered every single flower from our training data **perfectly**—but at the terrible cost of generalizing poorly when confronted with new blooms. This is the **curse of overfitting**, much like an overzealous Divination student seeing omens of doom in every teacup. ☕🔮  \n",
    "\n",
    "2. **🧙‍♀️ The Balance of Magic & Logic**  \n",
    "   If errors appear, it is not necessarily our tree’s failing! The dataset itself may contain **overlapping patterns**, flowers that look suspiciously alike, like Fred and George Weasley pulling their classic switcheroo. In such cases, even our most powerful spells may falter slightly.  "
   ]
  },
  {
   "cell_type": "markdown",
   "id": "2c22ad7a-b9d3-4c96-ad6e-348cc4c24cc6",
   "metadata": {},
   "source": [
    "### 8.1.5 **🎓 The Final Verdict**\n",
    "If the tree’s guesses are mostly correct, then **huzzah!** 🎉 We have wielded our magic well, crafting a model that is not only powerful but balanced—like a well-brewed Polyjuice Potion. Should it stumble in its classification, fear not! We can **train deeper trees**, **tweak parameters**, or even explore the mystical arts of **random forests**—a whole **grove** of decision trees working together in harmony. 🌳🌳🌳  \n",
    "\n",
    "So, what say you, young sorcerer of data? Shall we refine our spell, or does this tree stand tall, its roots firmly planted in truth? The choice, as always, is yours. ⚡📖✨"
   ]
  },
  {
   "cell_type": "markdown",
   "id": "d786e3c3-183d-4cf3-97e0-dfd2a01ebde4",
   "metadata": {},
   "source": [
    "---"
   ]
  },
  {
   "cell_type": "markdown",
   "id": "45792eef-66c9-44e7-965e-cd406756d77a",
   "metadata": {},
   "source": [
    "## 8.2 Hogwarts Application: Sorting Students into Houses  "
   ]
  },
  {
   "cell_type": "markdown",
   "id": "bce9351d-c7c9-4390-b1fd-3d7f40893c22",
   "metadata": {},
   "source": [
    "Picture Professor McGonagall tapping her wand, saying, “Gerry, sort these first-years with a Decision Tree!” We’d feed it traits—bravery, wit, loyalty, ambition—and watch it branch: “Bravery over 7? Gryffindor! Wit above 8? Ravenclaw!” Just like sorting Irises, it’d place students into Houses with crisp precision—no need for the Sorting Hat’s mumbling. Even Harry’s scarf would flutter with approval! 🏰🧣✨  "
   ]
  },
  {
   "cell_type": "markdown",
   "id": "a5f0bf0d-8225-4d63-b553-6cc816b51332",
   "metadata": {},
   "source": [
    "---"
   ]
  },
  {
   "cell_type": "markdown",
   "id": "82e546a5-cc35-4149-9daa-f5ebd03285a8",
   "metadata": {},
   "source": [
    "## 8.3 Gemika’s Quiz Time! 🌟🏰"
   ]
  },
  {
   "cell_type": "markdown",
   "id": "bea894eb-262d-4f0a-992c-a1583f029f6b",
   "metadata": {},
   "source": [
    "My little Gemika, sketching a tree with crayons, looks up with a grin. _“Abi,”_ he wonders, _“how does a tree decide which Iris flower is which?”_ I ruffle his hair—he’s growing as fast as a [Venomous Tentacula](https://harrypotter.fandom.com/wiki/Venomous_Tentacula#Behind_the_scenes)! Pick your answer, young transfigurers:  \n",
    "\n",
    "- **A)** It asks each flower a riddle and picks based on the answer.  \n",
    "- **B)** It grows branches with questions, guiding flowers to their type—like a map!  \n",
    "- **C)** It shakes its leaves and hopes the right name falls out.  \n",
    "\n",
    "Scribble your guess or shout it louder than a Transfigured teapot—Gemika’s all ears! 🗣️📝✨ *(Hint: Think branches, not luck!)*  \n",
    "\n",
    "---"
   ]
  },
  {
   "cell_type": "markdown",
   "id": "efd11d83-0c15-4d8c-afd5-546dfb921def",
   "metadata": {},
   "source": [
    "## 8.4 Next Chapter: A Forest of Wonders  \n",
    "\n",
    "Hold your broomsticks, because next we’re summoning a Random Forest—a whole grove of magical trees! We’ll turn our Iris guesses into a council of wisdom, like Dumbledore’s advisors. It’ll be so grand, even Hagrid might bring a picnic! Get ready for more magic and a rustle of leaves! 🌲🪄✨  "
   ]
  },
  {
   "cell_type": "code",
   "execution_count": null,
   "id": "3010db28-8667-4aab-af03-1059b52c3b13",
   "metadata": {},
   "outputs": [],
   "source": []
  }
 ],
 "metadata": {
  "kernelspec": {
   "display_name": "Python 3 (ipykernel)",
   "language": "python",
   "name": "python3"
  },
  "language_info": {
   "codemirror_mode": {
    "name": "ipython",
    "version": 3
   },
   "file_extension": ".py",
   "mimetype": "text/x-python",
   "name": "python",
   "nbconvert_exporter": "python",
   "pygments_lexer": "ipython3",
   "version": "3.8.0"
  }
 },
 "nbformat": 4,
 "nbformat_minor": 5
}
