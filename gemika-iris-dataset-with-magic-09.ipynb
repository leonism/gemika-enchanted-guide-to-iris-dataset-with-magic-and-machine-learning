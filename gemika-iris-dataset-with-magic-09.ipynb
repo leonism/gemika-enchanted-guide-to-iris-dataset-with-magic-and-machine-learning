{
 "cells": [
  {
   "cell_type": "markdown",
   "id": "2a6412fa-bec5-4eb2-9111-bf86c1cb008d",
   "metadata": {},
   "source": [
    "# Gemika’s Enchanted Guide to Iris Dataset with Magic and Machine Learning 🌟🧙‍♂️ (Part #9)"
   ]
  },
  {
   "cell_type": "markdown",
   "id": "1ea59f5a-4ed7-4dcf-83f7-dee7687aedbd",
   "metadata": {},
   "source": [
    "![Chapter 09](images/chapter-09.jpg \"Chapter 09\")"
   ]
  },
  {
   "cell_type": "markdown",
   "id": "664c4582-7d10-4322-aa22-d91b197c7c79",
   "metadata": {},
   "source": [
    "Welcome back, my brilliant young enchanters! I’m Professor Gerry Leo Nugroho, your guide through the enchanted groves of data science at Hogwarts, and a trusted ally of the great Albus Dumbledore. Last time, we joined Professor McGonagall in Transfiguration, crafting a Decision Tree that sorted our Iris Dataset like students into Houses—branch by branch, precise as her Animagus purr! 🌸  \n",
    "\n",
    "Now, my little Gryffindor sage, Gemika Haziq Nugroho, and I are climbing the spiral stairs to Dumbledore’s office. It’s time to tap into his ancient wisdom and grow a Random Forest—stronger magic awaits! ✨📚  "
   ]
  },
  {
   "cell_type": "markdown",
   "id": "8387412b-9194-41cf-8d64-044ab3761a1c",
   "metadata": {},
   "source": [
    "---"
   ]
  },
  {
   "cell_type": "markdown",
   "id": "a3e3d7b8-1a3c-4b33-b04f-1b395cfaa9c0",
   "metadata": {},
   "source": [
    "## Chapter 9: Dumbledore’s Wisdom: Boosting Predictions with Random Forests 🌲🧙‍♂️  "
   ]
  },
  {
   "cell_type": "markdown",
   "id": "1a2a5d0d-96c6-415a-8fc1-8be4704c00c4",
   "metadata": {},
   "source": [
    "Picture this: we’re standing before Dumbledore’s desk, Fawkes trilling softly, as the headmaster twinkles, _“Gerry, one tree is wise, but a forest is unbeatable!”_ With the Random Forest, we’re not planting just one Decision Tree—we’re growing a whole grove of them, each whispering its own guess about our Iris flowers—`Setosa`, `Versicolor`, `Virginica`! 🌺  \n",
    "\n",
    "Each tree votes, like a council of Hogwarts professors, and the majority rules. It’s like summoning a legion of enchanted oaks from the Forbidden Forest—stronger together, they’ll predict with the might of Merlin himself! 🌳⚡  "
   ]
  },
  {
   "cell_type": "markdown",
   "id": "eb115048-a7c2-46cf-a1ab-a637c0fd046a",
   "metadata": {},
   "source": [
    "---"
   ]
  },
  {
   "cell_type": "markdown",
   "id": "65d5e098-ee0a-4dd7-b64a-be999336b8a2",
   "metadata": {},
   "source": [
    "### 9.1 **The Code & Algorithm: Summoning the Random Forest**"
   ]
  },
  {
   "cell_type": "markdown",
   "id": "7b23b97e-02b1-44c9-9f8d-3608eae56662",
   "metadata": {},
   "source": [
    "Let’s open our spellbook (or Jupyter Lab) and cast the `RandomForestClassifier` spell from `sklearn`. It’s a charm as grand as Dumbledore’s beard—powerful and full of surprises! Here’s the magic, with a grin for my clever Gemika:  "
   ]
  },
  {
   "cell_type": "code",
   "execution_count": 3,
   "id": "1b2865ad-036c-4548-9062-3d46ab4cd146",
   "metadata": {
    "scrolled": true
   },
   "outputs": [
    {
     "name": "stdout",
     "output_type": "stream",
     "text": [
      "🔮 First few guesses by the Forest of Wisdom: ['versicolor' 'setosa' 'virginica' 'versicolor' 'versicolor']\n",
      "📜 The true magical identities: ['versicolor', 'setosa', 'virginica', 'versicolor', 'versicolor']\n",
      "Categories (3, object): ['setosa', 'versicolor', 'virginica']\n"
     ]
    }
   ],
   "source": [
    "import pandas as pd  # 📜 Summon the magical scrolls of data!\n",
    "from sklearn.datasets import load_iris  # 🌿 Summon the legendary Iris dataset\n",
    "from sklearn.model_selection import train_test_split  # ✂️ Divide and conquer—splitting our dataset\n",
    "from sklearn.ensemble import RandomForestClassifier  # 🌳 Summon the enchanted forest of wisdom!\n",
    "\n",
    "# 🏰 Opening the gates to the magical Iris scroll...\n",
    "iris = load_iris()  # 📜 Calling upon the sacred dataset of botanists and wizards alike!\n",
    "\n",
    "# 📦 Transforming the scroll into a DataFrame (a more readable magical tome)\n",
    "iris_df = pd.DataFrame(data=iris.data, columns=iris.feature_names)  # 📝 Assigning names to our enchanted attributes\n",
    "\n",
    "# 🏷️ Adding the species names (instead of cryptic numerical codes)\n",
    "iris_df['species'] = pd.Categorical.from_codes(iris.target, iris.target_names)  # 🔮 Transforming numbers into meaningful words!\n",
    "\n",
    "# 🌱 Separating the flower’s traits (X) from their magical names (y)\n",
    "X = iris_df.drop('species', axis=1)  # 🌸 Traits like petal and sepal measurements\n",
    "y = iris_df['species']  # 🏷️ The true identity of each bloom!\n",
    "\n",
    "# ✨ Splitting the dataset into training (80%) and testing (20%)—a wizardly balance!\n",
    "X_train, X_test, y_train, y_test = train_test_split(X, y, test_size=0.2, random_state=42)\n",
    "\n",
    "# 🌲🌲🌲 Summoning the Enchanted Forest of 100 wise trees!\n",
    "forest = RandomForestClassifier(n_estimators=100, random_state=42)  # 🏰 Dumbledore’s council of trees is assembled!\n",
    "\n",
    "# 📖 Training the forest with our magical scrolls\n",
    "forest.fit(X_train, y_train)  # 🌿 The trees are learning, whispering secrets to one another...\n",
    "\n",
    "# 🔮 Let’s see how wise our forest has become...\n",
    "y_pred = forest.predict(X_test)  # 🌲 The trees vote and decide on their mystical insights!\n",
    "\n",
    "# 📜 Revealing the first few predictions made by our enchanted forest!\n",
    "print(\"🔮 First few guesses by the Forest of Wisdom:\", y_pred[:5])\n",
    "print(\"📜 The true magical identities:\", y_test[:5].values)"
   ]
  },
  {
   "cell_type": "markdown",
   "id": "2c8d5bd4-6234-41fa-a4b9-273734403321",
   "metadata": {},
   "source": [
    "---"
   ]
  },
  {
   "cell_type": "markdown",
   "id": "e219be90-28e4-42f3-b5f3-e18f66718db0",
   "metadata": {},
   "source": [
    "### 9.2 What’s Rustling in the Forest?  "
   ]
  },
  {
   "cell_type": "markdown",
   "id": "746b115e-a7dd-4278-8b90-35fc46b6fbdd",
   "metadata": {},
   "source": [
    "- **`RandomForestClassifier(n_estimators=100)`**: Summons 100 trees—each a little different, like a Hogwarts class full of unique students!  \n",
    "- **`.fit(X_train, y_train)`**: Plants the forest with training data—every tree learns its own path, like Dumbledore teaching patience!  \n",
    "- **`.predict(X_test)`**: Asks each tree to vote—majority wins, guessing flower types faster than a phoenix soaring!  \n",
    "\n",
    "Run this, and you might see:  \n",
    "\n",
    "```plaintext\n",
    "First few guesses: ['versicolor' 'setosa' 'virginica' 'versicolor' 'versicolor']\n",
    "Real answers: ['versicolor' 'setosa' 'virginica' 'versicolor' 'versicolor']\n",
    "```\n",
    "\n",
    "Perfect harmony—the forest’s wisdom shines like Dumbledore’s twinkling eyes! 🌟🌲"
   ]
  },
  {
   "cell_type": "markdown",
   "id": "3793e6bc-2035-4c7d-b311-bfd2a1320823",
   "metadata": {},
   "source": [
    "---"
   ]
  },
  {
   "cell_type": "markdown",
   "id": "c4d435fe-d7a8-4cb6-8609-ff2a492a3faf",
   "metadata": {},
   "source": [
    "### 9.2.1 What's the spell trying to teach us?"
   ]
  },
  {
   "cell_type": "markdown",
   "id": "829b06dd-5d14-4f78-99c7-f5e2940f3923",
   "metadata": {},
   "source": [
    "Ah, young witch or wizard, gather ‘round! For the enchanted Forest of Wisdom has spoken, and its whispers echo through the grand halls of botanic sorcery! 🌿✨  \n",
    "\n",
    "As the veil is lifted, we behold the sacred scroll of predictions:  \n",
    "\n",
    "🔮 **First few guesses by the Forest of Wisdom:**  \n",
    "*‘versicolor’ ‘setosa’ ‘virginica’ ‘versicolor’ ‘versicolor’*  \n",
    "\n",
    "📜 **The true magical identities of the flowers:**  \n",
    "*‘versicolor’ ‘setosa’ ‘virginica’ ‘versicolor’ ‘versicolor’*  \n",
    "\n",
    "🎇 **What does this tell us?** 🎇  \n",
    "\n",
    "Ah, rejoice! For the enchanted forest has proven its might! Like Professor McGonagall grading Transfiguration essays, it has judged correctly, matching the true nature of these blossoms with astonishing accuracy. Not a single trait was misidentified—every petal, every sepal, measured and deciphered with the precision of a seasoned Herbology master. 🌱✨  \n",
    "\n",
    "The trees, wise beyond measure, have whispered in unison, their leaves rustling with knowledge. The ‘versicolor’ was foretold as ‘versicolor,’ the ‘setosa’ as ‘setosa,’ the ‘virginica’ as ‘virginica.’ Not even a mischievous pixie could find fault in these predictions! 💫  \n",
    "\n",
    "And so, dear seeker of wisdom, this result suggests that our Random Forest, much like a well-trained auror, has honed its craft well. It has studied the ancient tomes of the Iris dataset and emerged victorious, unmasking the true identity of each flower with uncanny accuracy. 🏆🌿  \n",
    "\n",
    "But beware! Dark forces lurk in the shadows of machine learning—overconfidence may lead to overfitting, and unseen flowers may yet test our enchanted trees! Shall we venture deeper into the Forbidden Forest of evaluation, exploring accuracy scores, confusion matrices, and precision spells? The choice is yours, young scholar of the arcane arts! ⚡📖✨"
   ]
  },
  {
   "cell_type": "markdown",
   "id": "459940a4-b816-4ace-87c1-bb950468bd3a",
   "metadata": {},
   "source": [
    "---"
   ]
  },
  {
   "cell_type": "markdown",
   "id": "0d92ac79-36ec-4166-9d10-5ccdad6a41ff",
   "metadata": {},
   "source": [
    "### 9.3 Hogwarts Application: Defending the Castle  \n",
    "\n",
    "Imagine Dumbledore gazing out from his tower, murmuring, “Gerry, we must defend Hogwarts—predict the Death Eaters’ moves!” With a Random Forest, we’d analyze clues—wand sparks, broom trails, dark whispers—each tree voting on the enemy’s next step. One tree might falter, but 100 together? Unstoppable!  \n",
    "\n",
    "Just like sorting Irises, we’d shield the castle with enchanted predictions—stronger than any Shield Charm, keeping Harry and friends safe! 🏰🛡️✨  "
   ]
  },
  {
   "cell_type": "markdown",
   "id": "9016cd52-8447-4399-9ad8-d6e3f4eb83b8",
   "metadata": {},
   "source": [
    "---"
   ]
  },
  {
   "cell_type": "markdown",
   "id": "9d1975a7-16a7-4ba9-8002-e32b7705f927",
   "metadata": {},
   "source": [
    "### 9.4 Gemika’s Quiz Time! 🧑‍🚀  \n",
    "\n",
    "My little Gemika, clutching a twig like a mini Dumbledore, tilts his head. “_Abi_,” he asks, _“why is a forest stronger than one tree for the Iris flowers?”_ I chuckle—he’s wise beyond his years! Pick your answer, young foresters:  \n",
    "\n",
    "- **A)** Because it has more leaves to hide the answers.  \n",
    "- **B)** Because many trees vote together, making smarter guesses—like a team!  \n",
    "- **C)** Because it scares the flowers into telling the truth.  \n",
    "\n",
    "Scribble your guess or shout it louder than a Fawkes trill—Gemika’s waiting with a grin! 🗣️📝✨ *(Hint: Think council, not camouflage!)*  "
   ]
  },
  {
   "cell_type": "markdown",
   "id": "06d06a1d-68f0-48f0-ab36-332f59af0c72",
   "metadata": {},
   "source": [
    "---"
   ]
  },
  {
   "cell_type": "markdown",
   "id": "951ab1b3-b4e8-4f94-bee1-f5ffe01638ef",
   "metadata": {},
   "source": [
    "### 9.5 Next Chapter: The Final Test  \n",
    "\n",
    "Hold your Hippogriffs, because next we’re putting our magic to the test! We’ll measure our spells’ strength with accuracy and confusion matrices—like grading a potions exam. It’ll be so thrilling, even Snape might sneak a peek! Get ready for more magic and a dash of suspense! 🔮🪄✨  "
   ]
  },
  {
   "cell_type": "code",
   "execution_count": null,
   "id": "fb0860ad-1b24-4016-83c3-01f92f55c4bb",
   "metadata": {},
   "outputs": [],
   "source": []
  }
 ],
 "metadata": {
  "kernelspec": {
   "display_name": "Python 3 (ipykernel)",
   "language": "python",
   "name": "python3"
  },
  "language_info": {
   "codemirror_mode": {
    "name": "ipython",
    "version": 3
   },
   "file_extension": ".py",
   "mimetype": "text/x-python",
   "name": "python",
   "nbconvert_exporter": "python",
   "pygments_lexer": "ipython3",
   "version": "3.8.0"
  }
 },
 "nbformat": 4,
 "nbformat_minor": 5
}
