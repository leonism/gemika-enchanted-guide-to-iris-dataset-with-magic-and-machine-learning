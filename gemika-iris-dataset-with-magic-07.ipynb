{
 "cells": [
  {
   "cell_type": "markdown",
   "id": "cc81533f-27b6-470b-8965-37fdc33af24c",
   "metadata": {},
   "source": [
    "# Gemika’s Enchanted Guide to Iris Dataset with Magic and Machine Learning 🌟🧙‍♂️ (Part #7)"
   ]
  },
  {
   "cell_type": "markdown",
   "id": "8ae19b46-0497-4b4b-bf2a-bc1ce8dceebf",
   "metadata": {},
   "source": [
    "![Chapter 07](images/chapter-07.jpg \"Chapter 07\")"
   ]
  },
  {
   "cell_type": "markdown",
   "id": "43cd2038-e182-4fab-a9c8-01e6da676703",
   "metadata": {},
   "source": [
    "Welcome back, my dazzling young spellcasters! I’m Professor Gerry Leo Nugroho, your guide through the wondrous corridors of data magic at Hogwarts, and a dear friend of Albus Dumbledore. Last time, we wielded the Elder Wand to [split our Iris Dataset](https://dev.to/gerryleonugroho/gemikas-enchanted-guide-to-iris-dataset-with-magic-and-machine-learning-part-6-12gi) into training and testing realms—like dividing champions for the Triwizard Tournament! 🌸  \n",
    "\n",
    "Now, my little Gryffindor charmer, Gemika Haziq Nugroho, and I are skipping off to Professor Flitwick’s Charms Class. It’s time to wave our wands and cast a spell that finds friends among flowers—ready your incantations! 📚✨  \n",
    "\n",
    "---\n"
   ]
  },
  {
   "cell_type": "markdown",
   "id": "586c485a-c9a6-41bd-90a3-615140b00a4b",
   "metadata": {},
   "source": [
    "## Chapter 7: Charms Class - Casting the K-Nearest Neighbors Spell 🪄✨  \n",
    "\n",
    "Picture this: we’re perched on stools in the airy Charms classroom, sunlight streaming through stained-glass windows, and Professor Flitwick squeaks, “_Today, Nugroho, we’ll charm these Irises with K-Nearest Neighbors_—or _KNN for short_!” 🌺  \n",
    "\n",
    "This spell is like a magical compass—it looks at an Iris flower’s traits (petal length, sepal width) and asks, “_Who’s your closest neighbor_?” Then, it guesses the flower’s type—`Setosa`, `Versicolor`, or `Virginica`—based on its five nearest pals! It’s as if the flowers are holding hands in a circle, singing, “**You’re one of us**!” Flitwick’s wand twirls—this charm’s pure delight! 🎶🪄  \n",
    "\n",
    "---"
   ]
  },
  {
   "cell_type": "markdown",
   "id": "e54a33b9-7a66-457a-a255-b8b0354e8414",
   "metadata": {},
   "source": [
    "### 7.1 The Code & Algorithm: Waving the KNN Wand\n",
    "  \n",
    "Let’s open our spellbook (or Jupyter Lab) and cast the `KNeighborsClassifier` spell from `sklearn`. It’s a charm so simple, even Neville could master it—yet powerful enough to stun a troll! Here’s the magic, with a grin for my curious Gemika:"
   ]
  },
  {
   "cell_type": "code",
   "execution_count": 5,
   "id": "9a00d00b-d8a5-4ba7-a500-f181e510a93f",
   "metadata": {},
   "outputs": [
    {
     "name": "stdout",
     "output_type": "stream",
     "text": [
      "🔍 First few guesses: ['versicolor' 'setosa' 'virginica' 'versicolor' 'versicolor']\n",
      "✅ Real answers: ['versicolor', 'setosa', 'virginica', 'versicolor', 'versicolor']\n",
      "Categories (3, object): ['setosa', 'versicolor', 'virginica']\n",
      "✨ Spell Accuracy: 100.00%\n"
     ]
    }
   ],
   "source": [
    "# 🧙‍♂️ Summoning Our Charm Tools for Magical Classification!\n",
    "# Let's bring in our magical scrolls and tools to classify the enchanted Iris flowers!\n",
    "\n",
    "import pandas as pd  # 📜 Pandas, our trusty spellbook for data manipulation!\n",
    "from sklearn.datasets import load_iris  # 🌿 Summoning the legendary Iris dataset\n",
    "from sklearn.model_selection import train_test_split  # ✨ Splitting data, like dividing potion ingredients!\n",
    "from sklearn.neighbors import KNeighborsClassifier  # 🏰 The K-Nearest Neighbors charm for classification!\n",
    "\n",
    "# 📖 Loading the Iris scroll — a tome of floral wisdom!\n",
    "iris = load_iris()  # Summons the dataset from the magical archives!\n",
    "\n",
    "# 🔮 Transcribing the scroll into a readable DataFrame (a modern wizard's grimoire)\n",
    "iris_df = pd.DataFrame(data=iris.data, columns=iris.feature_names)  # Creating a spellbook of floral features\n",
    "\n",
    "# 🏷️ Assigning species names (turning numbers into magical creature names!)\n",
    "iris_df['species'] = pd.Categorical.from_codes(iris.target, iris.target_names)\n",
    "\n",
    "# 🌸 Separating the magical traits (X) from their species names (y)\n",
    "X = iris_df.drop('species', axis=1)  # 📊 Features — sepal & petal measurements\n",
    "y = iris_df['species']  # 🏷️ Labels — the species names\n",
    "\n",
    "# ✂️ Splitting the dataset (like portioning ingredients for a perfect potion!)\n",
    "X_train, X_test, y_train, y_test = train_test_split(X, y, test_size=0.2, random_state=42)\n",
    "# 📝 80% of the flowers are used for training, 20% for testing our spell!\n",
    "\n",
    "# 🪄 Spell: Casting KNN—like a friendly wave of the wand!\n",
    "knn = KNeighborsClassifier(n_neighbors=5)  # 5 neighbors—a magical number! 🌟\n",
    "knn.fit(X_train, y_train)  # 📚 Training our classifier—teaching it the floral secrets!\n",
    "\n",
    "# 🎯 Testing the charm’s power! (Does our spellwork hold true?)\n",
    "y_pred = knn.predict(X_test)  # 🔮 Predicting species for the test flowers\n",
    "\n",
    "# 📜 Revealing the first few magical predictions!\n",
    "print(\"🔍 First few guesses:\", y_pred[:5])  # The classifier’s enchanted guesses\n",
    "print(\"✅ Real answers:\", y_test[:5].values)  # The true species—did we cast the spell correctly?\n",
    "\n",
    "# 🎭 Optional Enhancement: Checking accuracy\n",
    "accuracy = (y_pred == y_test.values).mean() * 100  # Calculating accuracy like a wizard's precision!\n",
    "print(f\"✨ Spell Accuracy: {accuracy:.2f}%\")  # Reporting our spell's effectiveness!"
   ]
  },
  {
   "cell_type": "markdown",
   "id": "ae7c0aad-dad7-4020-b1ed-7e9f860044b5",
   "metadata": {},
   "source": [
    "### 7.2 What’s Twirling in the Spell?\n",
    "\n",
    "- `KNeighborsClassifier(n_neighbors=5)`: Sets up our charm—five neighbors vote on each flower’s type, like a mini Hogwarts jury!  \n",
    "- `.fit(X_train, y_train)`: Teaches the spell using our training realm—like practicing *Wingardium Leviosa* on feathers!  \n",
    "- `.predict(X_test)`: Casts the charm on test flowers—guessing their species faster than a Snitch flies!  \n",
    "\n",
    "Run this, and you might see:\n",
    "\n",
    "```bash\n",
    "First few guesses: ['versicolor' 'setosa' 'virginica' 'versicolor' 'versicolor']\n",
    "Real answers: ['versicolor' 'setosa' 'virginica' 'versicolor' 'versicolor']\n",
    "```  \n",
    "\n",
    "Look at that—our charm’s spot on! Flitwick would give us an “Outstanding” for sure! 🌟🎉  \n",
    "\n",
    "---\n"
   ]
  },
  {
   "cell_type": "markdown",
   "id": "82f9abdc-cddb-4f85-9533-8fc8202108ba",
   "metadata": {},
   "source": [
    "### 7.3 Hogwarts Application: Finding Your Closest Pals \n",
    " \n",
    "Imagine Professor Flitwick chirping, “Let’s find your Hogwarts friends with KNN!” We’d measure traits—wand length, spell speed, chocolate frog card collection—and the spell would point to your nearest neighbors. Are you closest to Harry’s bravery, Hermione’s smarts, or Ron’s loyalty? Just like guessing Iris species, KNN would match you with your crew—perfect for plotting pranks or studying for OWLs! 🧙‍♂️👭✨  \n",
    "\n",
    "---\n",
    "\n",
    "## 7.4 Gemika’s Quiz Time! 🧑‍🚀\n",
    "\n",
    "My little Gemika, waving his stick like a tiny Flitwick, pipes up, “Abi, how does this spell guess the Iris flower’s house?” I beam—he’s got charm in spades! Pick your answer, young enchanters:  \n",
    "\n",
    "- **A)** It asks the Sorting Hat to whisper the answer.  \n",
    "- **B)** It checks the five closest flowers and takes a vote—like a friend poll!  \n",
    "- **C)** It waves a wand and hopes for the best.  \n",
    "\n",
    "Scribble your guess or shout it louder than a Cheering Charm—Gemika’s giggling for your reply! 🗣️📝✨ *(Hint: Think neighbors, not luck!)*  \n",
    "\n",
    "---\n",
    "\n",
    "## 7.5 Next Chapter: The Tree of Wisdom\n",
    "  \n",
    "Hold your Hippogriffs, because next we’re planting a Decision Tree—a magical map of choices! We’ll guide our Irises through a forest of decisions, like sorting students into Houses. It’ll be so grand, even Luna Lovegood might wander in! Get ready for more magic and a twist of wonder! 🌳🪄✨  "
   ]
  },
  {
   "cell_type": "code",
   "execution_count": null,
   "id": "88efdfa0-cfae-4621-b548-3bd90d652f1d",
   "metadata": {},
   "outputs": [],
   "source": []
  }
 ],
 "metadata": {
  "kernelspec": {
   "display_name": "Python 3 (ipykernel)",
   "language": "python",
   "name": "python3"
  },
  "language_info": {
   "codemirror_mode": {
    "name": "ipython",
    "version": 3
   },
   "file_extension": ".py",
   "mimetype": "text/x-python",
   "name": "python",
   "nbconvert_exporter": "python",
   "pygments_lexer": "ipython3",
   "version": "3.8.0"
  }
 },
 "nbformat": 4,
 "nbformat_minor": 5
}
