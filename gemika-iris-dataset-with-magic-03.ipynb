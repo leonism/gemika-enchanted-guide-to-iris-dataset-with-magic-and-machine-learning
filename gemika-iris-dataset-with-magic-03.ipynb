{
 "cells": [
  {
   "cell_type": "markdown",
   "id": "ff4b625d-e207-4579-bba8-306069aae4a1",
   "metadata": {},
   "source": [
    "# Gemika’s Enchanted Guide to Iris Dataset with Magic and Machine Learning 🌟🧙‍♂️ (Part #3)"
   ]
  },
  {
   "cell_type": "markdown",
   "id": "6ae4b97a-c256-4b41-89d1-5befc73a9cb8",
   "metadata": {},
   "source": [
    "![Chapter 03](images/chapter-03.jpg \"Chapter 03\")"
   ]
  },
  {
   "cell_type": "markdown",
   "id": "93659888-9e9a-4f3a-87d1-2a748c41923a",
   "metadata": {},
   "source": [
    "Step into the shadowy dungeons of Hogwarts, young spellcasters, where the air hums with bubbling cauldrons and the scent of mischief! I’m Professor Gerry Leo Nugroho, your potion-brewing companion, and today we’re sneaking into Professor Snape’s lair to whip up something dazzling: colorful charts that dance like fire crabs on a moonlit night. With our Iris Dataset scroll as our recipe, we’ll stir numbers into magical visualizations—pictures that leap off the parchment and dazzle the eyes of every witch and wizard!"
   ]
  },
  {
   "cell_type": "markdown",
   "id": "40706f96-b56b-446b-8e7b-be5e6c74610d",
   "metadata": {},
   "source": [
    "---"
   ]
  },
  {
   "cell_type": "markdown",
   "id": "85c80bb5-09d6-4103-9f2b-07a4a41a4845",
   "metadata": {},
   "source": [
    "## Chapter 3. Potion Brewing: Stirring Up Magical Visualizations 🧪"
   ]
  },
  {
   "cell_type": "markdown",
   "id": "b980729c-5f2b-4e54-87b3-7ac104e28d57",
   "metadata": {},
   "source": [
    "Gemika Haziq Nugroho, my fearless 9-year-old Gryffindor, clutches his tiny cauldron, peering at me with a grin. “_Abi, are we making the flowers glow like Fawkes the Phoenix?_” he chirps. Oh, my little lion, we’re doing even better—we’re brewing visual potions that show `Setosa`’s short petals, `Versicolor`’s fiery spirit, and `Virginica`’s grand sweep, all twirling in colors brighter than a Weasley Wizard Wheezes prank! These charts aren’t just pretty—they’re spells that tell stories, perfect for impressing even the sour-faced Snape.\n",
    "\n",
    "This isn’t just potion class—it’s magic with a twist! Like Hermione perfecting her Polyjuice Potion, we’ll mix measurements with creativity, turning dull numbers into a bubbling brew of wonder. So, grab your ladle, Gemika, and let’s stir up some enchantment that’d make Dumbledore’s beard twitch with delight! 🧙‍♂️✨"
   ]
  },
  {
   "cell_type": "markdown",
   "id": "6fcf2d08-2bee-4a69-b788-95fb2fdf574c",
   "metadata": {},
   "source": [
    "---"
   ]
  },
  {
   "cell_type": "code",
   "execution_count": null,
   "id": "5d1d0843-2add-44fa-b070-99731fdf9569",
   "metadata": {},
   "outputs": [],
   "source": [
    "import pandas as pd  # Data handling\n",
    "import matplotlib.pyplot as plt  # Static plotting\n",
    "import seaborn as sns  # Enhanced statistical visualization\n",
    "import plotly.express as px  # Interactive plotting\n",
    "\n",
    "# Load the Iris dataset from an online source\n",
    "try:\n",
    "    iris = pd.read_csv('https://raw.githubusercontent.com/mwaskom/seaborn-data/master/iris.csv')\n",
    "    print(\"Dataset loaded successfully!\\n\")\n",
    "except Exception as e:\n",
    "    print(f\"Error loading dataset: {e}\")"
   ]
  },
  {
   "cell_type": "code",
   "execution_count": null,
   "id": "70cbf721-b0af-4b6f-83e1-6d84471e3c2b",
   "metadata": {},
   "outputs": [],
   "source": [
    "    exit()\n",
    "\n",
    "# Display basic dataset information\n",
    "print(\"First 5 rows of the dataset:\")\n",
    "print(iris.head(), \"\\n\")  # Display first 5 rows\n",
    "\n",
    "# Scatter plot using seaborn\n",
    "plt.figure(figsize=(8, 6))  # Set figure size for better readability\n",
    "sns.scatterplot(\n",
    "    x='sepal_length', \n",
    "    y='petal_length', \n",
    "    hue='species',  # Color by species\n",
    "    size='petal_width',  # Size of points by petal width\n",
    "    data=iris, \n",
    "    edgecolor='black',  # Improve visibility of data points\n",
    "    alpha=0.7  # Adjust transparency for better overlapping visuals\n",
    ")\n",
    "plt.title(\"Snape’s Enchanted Flower Dance\")  # Set title\n",
    "plt.xlabel(\"Sepal Length (cm)\")  # Label x-axis\n",
    "plt.ylabel(\"Petal Length (cm)\")  # Label y-axis\n",
    "plt.legend(title=\"Species\")  # Improve legend title\n",
    "plt.grid(True, linestyle='--', alpha=0.5)  # Add a grid for readability\n",
    "plt.show()  # Display the plot\n",
    "\n",
    "# Interactive scatter plot using Plotly\n",
    "fig = px.scatter(\n",
    "    iris, \n",
    "    x='sepal_length', \n",
    "    y='petal_length', \n",
    "    color='species',  # Color by species\n",
    "    size='petal_width',  # Size by petal width\n",
    "    title='Magical Iris Potion Glow',\n",
    "    labels={'sepal_length': 'Sepal Length (cm)', 'petal_length': 'Petal Length (cm)'}  # Improve axis labels\n",
    ")\n",
    "fig.update_traces(marker=dict(opacity=0.8, line=dict(width=1, color='DarkSlateGrey')))  # Improve marker styling\n",
    "fig.update_layout(template='plotly_dark')  # Set dark theme for better aesthetics\n",
    "fig.show()  # Display interactive plot"
   ]
  },
  {
   "cell_type": "code",
   "execution_count": null,
   "id": "7eb2270a-0e2e-4dc8-87ba-9b14a14e1f0a",
   "metadata": {},
   "outputs": [],
   "source": []
  },
  {
   "cell_type": "code",
   "execution_count": null,
   "id": "53342288-5bdd-47a2-99b7-0da4f198f0d7",
   "metadata": {},
   "outputs": [],
   "source": []
  }
 ],
 "metadata": {
  "kernelspec": {
   "display_name": "Python 3 (ipykernel)",
   "language": "python",
   "name": "python3"
  },
  "language_info": {
   "codemirror_mode": {
    "name": "ipython",
    "version": 3
   },
   "file_extension": ".py",
   "mimetype": "text/x-python",
   "name": "python",
   "nbconvert_exporter": "python",
   "pygments_lexer": "ipython3",
   "version": "3.8.0"
  }
 },
 "nbformat": 4,
 "nbformat_minor": 5
}
