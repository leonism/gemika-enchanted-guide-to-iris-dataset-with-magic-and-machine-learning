{
 "cells": [
  {
   "cell_type": "markdown",
   "id": "dc8859d8-de6e-4847-a9fa-ab60f4fcf329",
   "metadata": {},
   "source": [
    "# Gemika’s Enchanted Guide to Iris Dataset with Magic and Machine Learning 🌟🧙‍♂️ (Part #1)"
   ]
  },
  {
   "cell_type": "markdown",
   "id": "8d79203f-0299-4a10-ad0e-f849f776f8fc",
   "metadata": {},
   "source": [
    "![Chapter 01](images/chapter-01.jpg \"Chapter 01\")"
   ]
  },
  {
   "cell_type": "markdown",
   "id": "f99e36f8-39f3-4db3-9421-2d0e33798603",
   "metadata": {
    "editable": true,
    "slideshow": {
     "slide_type": ""
    },
    "tags": []
   },
   "source": [
    "Greetings, young witches and wizards! I’m Professor Gerry Leo Nugroho, your guide through this magical journey at Hogwarts, where numbers dance like pixies and predictions sparkle like fairy dust. Today, we’re unrolling a mystical scroll called the [Iris Dataset](https://archive.ics.uci.edu/dataset/53/iris)—a treasure map from the Hogwarts gardens, scribbled with secrets about enchanted flowers: the sly `Setosa`, the bold `Versicolor`, and the dazzling `Virginica`. Imagine the Sorting Hat whispering riddles about these blooms, each with petals and sepals measured in magical units, ready to reveal their hidden _Houses—er_, species!"
   ]
  },
  {
   "cell_type": "markdown",
   "id": "6a3f4615-9c52-4509-9a9c-091415e25aee",
   "metadata": {
    "editable": true,
    "slideshow": {
     "slide_type": ""
    },
    "tags": []
   },
   "source": [
    "---"
   ]
  },
  {
   "cell_type": "markdown",
   "id": "fc814b1b-bf5d-4db1-96c6-b386bb56cd61",
   "metadata": {},
   "source": [
    "## Chapter 1. The Sorting Hat’s Riddle: Iris Dataset 🌸🧙‍♂️"
   ]
  },
  {
   "cell_type": "markdown",
   "id": "ddc70745-1124-42dc-9918-7bac087d6216",
   "metadata": {},
   "source": [
    "Picture this: Gemika Haziq Nugroho, my 9-year-old son and a sprightly third-year Gryffindor, bouncing beside me as we stroll through Professor Sprout’s greenhouse. “_Abi, are these flowers alive like the Whomping Willow?_” he chirps. Not quite, my little wizard, but they hold magic in their numbers—lengths and widths of `petals` and `sepals` that we’ll decode with spells of `data science`, turning dusty parchment into a potion of discovery!\n",
    "\n",
    "This adventure isn’t just about flowers—it’s about learning to see the unseen, like Harry spotting a Snitch in the sky. With our trusty wands (and a bit of [Python](https://www.python.org/downloads/) magic), we’ll unravel the mysteries of these blooms, preparing you to become a data wizard worthy of Dumbledore’s praise. So, grab your cauldron, Gemika, and let’s dive into this enchanted riddle! 🌼🪄"
   ]
  },
  {
   "cell_type": "markdown",
   "id": "e0de2172-9d27-4dc1-bb77-7b8ecf68f85c",
   "metadata": {},
   "source": [
    "---"
   ]
  },
  {
   "cell_type": "markdown",
   "id": "8023c6c8-2cdf-4638-a85e-90fa80e12296",
   "metadata": {},
   "source": [
    "### 1.1 Installing the Magical Tools"
   ]
  },
  {
   "cell_type": "markdown",
   "id": "897522dd-66fe-432f-9972-d5777f81cffc",
   "metadata": {},
   "source": [
    "Before we wave our wands, we need our spellbooks—**Python**, **pandas**, and **Jupyter Lab**—ready on any magical device, be it a Windows broomstick, a Mac phoenix, or a Linux dragon! For Windows wizards, zoom to the [Python website](https://www.python.org/downloads/), snag the latest version (say, 3.11), and install it with a flick of “**Add to PATH**.”. \n",
    "\n",
    "Then, in your Command Prompt, chant `pip install pandas jupyterlab`—poof! Your tools arrive like owls from Diagon Alley. Mac and Linux sorcerers, use your Terminal and cast `brew install python` (**Mac**) or `sudo apt install python3` (**Linux**), followed by the same `pip` spell—easy as brewing Butterbeer!  \n",
    "\n",
    "**Jupyter Lab**, our magical parchment, is where we’ll scribble spells and see them sparkle. Once installed, tap `jupyter lab` in your **Command Prompt** or **Terminal**, and a glowing window opens in your browser—Hogwarts’ own library at your fingertips! Gemika tugs my robe, “_Abi, is this like the Mirror of Erised_?” Almost, my boy—it shows us the future of our data, not just our hearts’ desires!\n",
    "\n",
    "For all young spellcasters, ask a grown-up wizard (or Professor McGonagall) if you’re stuck—installing tools is like taming a Hippogriff: bow politely, and it’ll obey. With `Python` as our wand, `Pandas` as our owl, and `Jupyter Lab` as our crystal ball, we’re ready to summon the Iris Dataset. Let’s fly into the magic! 🦇✨"
   ]
  },
  {
   "cell_type": "markdown",
   "id": "4666f4c5-1222-48fb-a081-ac9478c57fca",
   "metadata": {},
   "source": [
    "---"
   ]
  },
  {
   "cell_type": "markdown",
   "id": "c5349eab-42ed-4df2-b807-370da0b19483",
   "metadata": {},
   "source": [
    "### 1.2 The Botanist’s Quest for Flowerly Secrets 📜🌿"
   ]
  },
  {
   "cell_type": "markdown",
   "id": "04c3a235-3eb6-4e51-8e32-f24d6c918b37",
   "metadata": {},
   "source": [
    "Long before Hogwarts graced the misty hills, an eccentric wizard-botanist named **Edgar Rhododendron** roamed meadows of dewy blooms. With an enchanted magnifying glass gifted by **Nicolas Flamel**, Edgar sought to classify three magical iris species—flowers so enchanting they whispered under moonlight. Though deceptively similar, their true identities lay hidden in precise measurements of **petal and sepal dimensions**. \n",
    "\n",
    "Armed with quill and cauldron, Edgar recorded every detail, unknowingly crafting a dataset that centuries later would guide young Hogwarts students in mastering classification charms. Thus began the tale of how even the smallest bloom could hold immense power. ✨📊  \n",
    "\n",
    "This humble scroll of numbers, shimmering faintly in candlelight, became known as the **Iris Dataset**—a cornerstone of magical machine learning. Simple yet profound, it revealed nature’s secrets, inspiring generations of data sorcerers to uncover the stories woven within. 🌟🪄"
   ]
  },
  {
   "cell_type": "markdown",
   "id": "6e4bb495-e7d7-402a-b4b5-2322de196e2c",
   "metadata": {},
   "source": [
    "---"
   ]
  },
  {
   "cell_type": "markdown",
   "id": "d0678514-af8c-4a36-bd04-425c3e97295b",
   "metadata": {},
   "source": [
    "### 1.3 Features—The Four Keys to Floral Identity 🔑🌺  "
   ]
  },
  {
   "cell_type": "markdown",
   "id": "430dbbd7-52e8-41d5-bafe-0ea2eeb3d29e",
   "metadata": {},
   "source": [
    "![Sepal Petal Iris Dataset](images/sepal-petal-iris-dataset.png \"Sepal Petal Iris Dataset\")"
   ]
  },
  {
   "cell_type": "markdown",
   "id": "c42ac4b9-d271-49a9-9b0f-4e09a223024d",
   "metadata": {},
   "source": [
    "Every flower tells a story, whispered through its physical traits. In the world of the Iris Dataset, these stories are told through four mystical attributes, each more intriguing than the last. Let us delve into their secrets:\n",
    "\n",
    "- **Sepal Length** (**cm**) 🌿  \n",
    "    The sepal is the guardian of the flower, shielding delicate petals as they unfurl. Its length speaks volumes about the flower's strength and resilience. Think of it as the backbone of a dragon or the sturdy walls of Hogwarts Castle.\n",
    "- **Sepal Width** (**cm**) 🌿  \n",
    "    The width of the sepal reveals subtleties of protection—how broad and encompassing its embrace may be. It’s akin to the arms of Hagrid, ever ready to cradle creatures great and small.\n",
    "- **Petal Length** (**cm**) 🌸  \n",
    "    Ah, the petal—the heart of the flower! Its length is a beacon of elegance and grace, much like Fawkes’ fiery plumage or Luna Lovegood’s dreamy gaze.\n",
    "- **Petal Width** (**cm**) 🌸  \n",
    "    Finally, the petal’s width adds depth to its character, hinting at whether it belongs to a bold Gryffindor bloom or a cunning Slytherin specimen.  \n",
    "\n",
    "Together, these four features form the essence of each iris, painting a portrait rich with detail. They are not mere numbers—they are whispers of nature’s own magic. 🌟🪄"
   ]
  },
  {
   "cell_type": "markdown",
   "id": "6275c50e-889b-4f47-9557-13c9b2d167fd",
   "metadata": {},
   "source": [
    "---"
   ]
  },
  {
   "cell_type": "markdown",
   "id": "6b7fcf39-175d-4f70-b3b7-64003d190812",
   "metadata": {},
   "source": [
    "### 1.4 The Target Variable—Unveiling the Species** 🏷️✨  "
   ]
  },
  {
   "cell_type": "markdown",
   "id": "6711ef42-735b-4b43-8ddd-db8a9d822888",
   "metadata": {},
   "source": [
    "But what good are measurements without knowing the flower’s name? Enter the **target variable**, the label that binds all knowledge together. Each iris falls into one of three ancient houses:  \n",
    "\n",
    "- **Setosa** 🌼  \n",
    "    The noblest of them all, Setosa stands apart with ease. Its distinct features make it as unmistakable as Dumbledore’s twinkling eyes.  \n",
    "\n",
    "- **Versicolor** 🌺  \n",
    "     Versicolor dances between worlds, neither too bold nor too shy. Like Professor McGonagall, it balances charm and complexity effortlessly.  \n",
    "\n",
    "- **Virginica** 🌷  \n",
    "     Virginica, the trickster, often disguises itself as Versicolor. Only the sharpest minds—or the keenest algorithms—can tell them apart. It’s as elusive as Peeves on a mischief-filled night!  \n",
    "\n",
    "These labels guide our journey, helping us sort and understand the floral tapestry woven by Mother Nature herself. 🎭🍃  "
   ]
  },
  {
   "cell_type": "markdown",
   "id": "f9e7a1dc-0941-4445-8730-5e21199defaf",
   "metadata": {},
   "source": [
    "### 1.5 The Scroll’s Dimensions—A Treasure Trove of Data** 📜🔍  "
   ]
  },
  {
   "cell_type": "markdown",
   "id": "95a69dc4-8f01-4d2c-b453-4c7a06976b7a",
   "metadata": {},
   "source": [
    "Behold the size of this magical scroll:  \n",
    "\n",
    "- **150 Samples**: Fifty flowers from each species, carefully plucked and measured.  \n",
    "- **4 Features per Sample**: Sepal length, sepal width, petal length, and petal width.  \n",
    "- **3 Class Labels**: Setosa, Versicolor, and Virginica.  \n",
    "\n",
    "It is compact yet brimming with potential, much like the Room of Requirement when filled with books and artifacts. With such clarity and simplicity, the Iris Dataset beckons aspiring data wizards to unlock its secrets. 🧹✨  "
   ]
  },
  {
   "cell_type": "markdown",
   "id": "2ccd5c80-c668-4f72-8e64-3bbba8f8f70c",
   "metadata": {},
   "source": [
    "---"
   ]
  },
  {
   "cell_type": "markdown",
   "id": "7bfa7d72-b47b-4eda-a3db-2d8726ff57ec",
   "metadata": {},
   "source": [
    "### 1.6 The Code & Algorithm "
   ]
  },
  {
   "cell_type": "markdown",
   "id": "0e3140a9-2d64-4c49-a5a5-69d0a39fe08d",
   "metadata": {},
   "source": [
    "Now, let’s call forth the Iris Dataset with a flick of our Python wand! We’ll use pandas, our trusty owl, to deliver this scroll. In Jupyter Lab, scribble this spell:  "
   ]
  },
  {
   "cell_type": "code",
   "execution_count": 2,
   "id": "6c1c8fad-8a73-4f1e-8903-f283e6d48270",
   "metadata": {},
   "outputs": [
    {
     "name": "stdout",
     "output_type": "stream",
     "text": [
      "   sepal_length  sepal_width  petal_length  petal_width species\n",
      "0           5.1          3.5           1.4          0.2  setosa\n",
      "1           4.9          3.0           1.4          0.2  setosa\n",
      "2           4.7          3.2           1.3          0.2  setosa\n",
      "3           4.6          3.1           1.5          0.2  setosa\n",
      "4           5.0          3.6           1.4          0.2  setosa\n"
     ]
    }
   ],
   "source": [
    "# Summon the magic with pandas—our owl post  \n",
    "import pandas as pd  \n",
    "\n",
    "# Fetch the Iris scroll from the Hogwarts library (online)  \n",
    "iris = pd.read_csv('https://raw.githubusercontent.com/mwaskom/seaborn-data/master/iris.csv')  \n",
    "\n",
    "# Peek at the first 5 rows—like casting Lumos!  \n",
    "print(iris.head())"
   ]
  },
  {
   "cell_type": "code",
   "execution_count": null,
   "id": "b504dbeb-51c6-44d7-a1c0-5b7b7f08f7f9",
   "metadata": {},
   "outputs": [],
   "source": []
  },
  {
   "cell_type": "markdown",
   "id": "f04206e5-15ce-4436-a7db-c99921100c6d",
   "metadata": {},
   "source": [
    "Cast it, and behold: rows of numbers and names flutter onto your screen—`sepal_length`, `sepal_width`, `petal_length`, `petal_width`, and species—like a Marauder’s Map of flowers!  \n",
    "\n",
    "Gemika claps, “_It’s like Hedwig dropped a letter!_” Exactly, my brave lion cub—pandas swoops in, grabs the data from a magical web vault, and lays it before us. Each row is a flower, each column a clue, and with `head()`, we sneak a peek at the first five, lighting up their secrets like a charm. It’s our first step into the dungeon of data—simple, yet thrilling as a Quidditch dive!  \n",
    "\n",
    "This spell isn’t just for show—it’s the foundation of our adventure. Like Hermione organizing her notes, we’re gathering our ingredients before brewing a potion. Soon, we’ll stir these numbers into predictions, but for now, let’s marvel at pandas’ delivery—faster than a Firebolt! 🧙‍♂️📜  "
   ]
  },
  {
   "cell_type": "markdown",
   "id": "8b04f3ea-f261-4397-830c-6f50c6bf7556",
   "metadata": {},
   "source": [
    "---"
   ]
  },
  {
   "cell_type": "markdown",
   "id": "a7d8a3f9-fe3e-4925-953c-66b49eb3a2e7",
   "metadata": {
    "editable": true,
    "slideshow": {
     "slide_type": ""
    },
    "tags": []
   },
   "source": [
    "### 1.7 Hogwarts Application"
   ]
  },
  {
   "cell_type": "markdown",
   "id": "24f62ddd-01de-4a27-8c49-fa704c893066",
   "metadata": {},
   "source": [
    "In the Hogwarts greenhouses, Professor Sprout waves us over, her arms full of wriggling Mandrakes. “_Gerry, can you sort these enchanted blooms for my Herbology class_?” she asks. With the Iris Dataset, we can! Imagine each flower whispering its traits—`Setosa` with short, wide petals, `Versicolor` with a fiery middle ground, `Virginica` stretching tall and proud. Our pandas spell sorts them faster than the Sorting Hat plonking first-years into Houses!  \n",
    "\n",
    "Picture Gemika waving his mini wand, shouting, “`Iris Revelio!`” as we list which flowers belong where. This magic isn’t just for plants—it’s practice for spotting differences, like telling a Blast-Ended Skrewt from a Flobberworm. One day, we might sort potion ingredients or even predict which dragon egg hatches first!  \n",
    "\n",
    "This is Herbology with a twist—numbers instead of soil, code instead of spades. By mastering this, young wizards like you can help Hagrid, Sprout, or even Snape (if he’s in a good mood) organize the wizarding world’s wonders. Data sorting: the unsung spell of Hogwarts! 🌿🪴"
   ]
  },
  {
   "cell_type": "markdown",
   "id": "41efd377-0019-46ca-a8f9-45b111eb0241",
   "metadata": {},
   "source": [
    "---"
   ]
  },
  {
   "cell_type": "markdown",
   "id": "d4d9bc7a-4179-4475-8a79-8090650d70f6",
   "metadata": {},
   "source": [
    "### 1.8 **Quiz** from Gemika Haziq Nugroho 🌟🧪"
   ]
  },
  {
   "cell_type": "markdown",
   "id": "8e907002-a05d-45ba-9a34-f461cb98cafa",
   "metadata": {},
   "source": [
    "Gemika bounces on his toes, his Gryffindor scarf flapping. “_Abi, what’s so special about these flowers_? _Are they like the ones that bite Neville?_”  \n",
    "\n",
    "- **A)**. They’re magical because they grow in the Forbidden Forest.  \n",
    "- **B)**. They’re special because their numbers tell us their species, like a secret code!  \n",
    "- **C)**. They’re just boring flowers with no magic at all.\n",
    "\n",
    "What’s your guess, young `spellcaster`? **Hint**: Think about how the Sorting Hat knows where you belong! 🦁✨"
   ]
  },
  {
   "cell_type": "markdown",
   "id": "2843be4e-7a62-4251-ab56-4cc7f15a0029",
   "metadata": {},
   "source": [
    "---"
   ]
  },
  {
   "cell_type": "markdown",
   "id": "fd719a96-f566-472a-90d0-f4162482c184",
   "metadata": {},
   "source": [
    "### 1.9 Next Chapter: A Flick of the Wand Awaits!"
   ]
  },
  {
   "cell_type": "markdown",
   "id": "bec32005-29b3-4206-9156-03b67d8240b1",
   "metadata": {},
   "source": [
    "Hold onto your broomsticks, because next time we’ll cast `Lumos` on this dataset with a spell called Exploratory Data Analysis (EDA)! We’ll peek deeper into the Iris scroll, spying secrets with numbers and charts—perfect for impressing Professor Flitwick or sneaking past Filch! Get ready for more fun, more magic, and maybe even a dragon or two!"
   ]
  }
 ],
 "metadata": {
  "kernelspec": {
   "display_name": "Python 3 (ipykernel)",
   "language": "python",
   "name": "python3"
  },
  "language_info": {
   "codemirror_mode": {
    "name": "ipython",
    "version": 3
   },
   "file_extension": ".py",
   "mimetype": "text/x-python",
   "name": "python",
   "nbconvert_exporter": "python",
   "pygments_lexer": "ipython3",
   "version": "3.8.0"
  }
 },
 "nbformat": 4,
 "nbformat_minor": 5
}
