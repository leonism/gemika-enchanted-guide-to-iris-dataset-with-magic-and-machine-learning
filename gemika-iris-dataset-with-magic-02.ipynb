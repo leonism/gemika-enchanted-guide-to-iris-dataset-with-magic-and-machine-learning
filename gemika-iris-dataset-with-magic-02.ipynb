{
 "cells": [
  {
   "cell_type": "markdown",
   "id": "c50c996a-7316-42bb-9fb5-dded1e357585",
   "metadata": {},
   "source": [
    "# Gemika’s Enchanted Guide to Iris Dataset with Magic and Machine Learning 🌟🧙‍♂️ (Part #2)"
   ]
  },
  {
   "cell_type": "markdown",
   "id": "608eec7f-4165-4c45-8b55-4487a9e07bd2",
   "metadata": {},
   "source": [
    "![Chapter 02](images/chapter-02.jpg \"Chapter 02\")"
   ]
  },
  {
   "cell_type": "markdown",
   "id": "d15aec99-803f-42d3-a73e-c9e8ff56b821",
   "metadata": {},
   "source": [
    "Welcome back, my brave young witches and wizards, to the hallowed halls of Hogwarts’ data dungeons! I’m Professor Gerry Leo Nugroho, your guide, and today we’re casting **Exploratory Data Analysis (EDA)** on the Iris Dataset. Think of it as shouting *Lumos* to reveal the hidden secrets of these enchanted flowers—unveiling petal and sepal mysteries like a treasure chest in the Room of Requirement! My 9-year-old Gryffindor, Gemika, peeks over my shoulder, asking, “_Are we spying on the flowers like Hermione in the Restricted Section_?” Exactly! EDA is our sneaky peek into the dataset’s soul, counting blooms, measuring quirks, and spotting patterns faster than Harry dodging a [Bludger](https://harrypotter.fandom.com/wiki/Bludger)."
   ]
  },
  {
   "cell_type": "markdown",
   "id": "1b8a544a-7c0c-4a33-ae81-e69dc0956708",
   "metadata": {},
   "source": [
    "---"
   ]
  },
  {
   "cell_type": "markdown",
   "id": "6fd515ab-87c0-430c-a079-bd25d009d73d",
   "metadata": {},
   "source": [
    "## Chapter 2. Waving the Wand of Exploration: Sneaky Peeks with EDA 🪄"
   ]
  },
  {
   "cell_type": "markdown",
   "id": "539e7804-d753-4976-a92b-45fb5f91fce1",
   "metadata": {},
   "source": [
    "Gemika Haziq Nugroho, my 9-year-old Gryffindor whirlwind, peers over my shoulder as we unfurl this magic. “_Abi, are we spying on the flowers like Hermione sneaking into the Restricted Section_?” he asks, eyes wide as a Niffler spotting gold. Precisely, my little lion cub! **EDA** is our sneaky peek into the dataset’s soul—counting blooms, measuring their quirks. It’s the first step to mastering the wizardry of numbers!  \n",
    "\n",
    "This isn’t just about flowers—it’s about learning to ask questions like a true Hogwarts hero. Are `Setosa`’s petals shorter than `Virginica`’s? Do `Versicolor`’s sepals wiggle in the middle? With **EDA**, we’re not just looking; we’re seeing, like using the Marauder’s Map to spot mischief. So, grab your wand, Gemika, and let’s explore this enchanted garden together!"
   ]
  },
  {
   "cell_type": "markdown",
   "id": "45c49a6e-1221-484b-97a9-7f8d7bb2416e",
   "metadata": {},
   "source": [
    "---"
   ]
  },
  {
   "cell_type": "markdown",
   "id": "024b7a8a-7d0a-4fe9-8a64-7339acb07999",
   "metadata": {},
   "source": [
    "### 2.1 The Code & Algorithm"
   ]
  },
  {
   "cell_type": "markdown",
   "id": "737bcdd0-9786-4dc3-b549-2cbe1e706f49",
   "metadata": {},
   "source": [
    "Time to cast our EDA spells with Python—our magical quill scribbling on the parchment of Jupyter Lab! Here’s the incantation to peek into the Iris Dataset:"
   ]
  },
  {
   "cell_type": "code",
   "execution_count": 9,
   "id": "ad5e33df-00fb-4042-b4a5-113885004242",
   "metadata": {},
   "outputs": [
    {
     "name": "stdout",
     "output_type": "stream",
     "text": [
      "✅ Dataset successfully loaded!\n",
      "\n",
      "🌸 First 5 blooms in the Iris dataset:\n",
      "   sepal_length  sepal_width  petal_length  petal_width species\n",
      "0           5.1          3.5           1.4          0.2  setosa\n",
      "1           4.9          3.0           1.4          0.2  setosa\n",
      "2           4.7          3.2           1.3          0.2  setosa\n",
      "3           4.6          3.1           1.5          0.2  setosa\n",
      "4           5.0          3.6           1.4          0.2  setosa\n",
      "\n",
      "🔢 Magical summary of numerical features:\n",
      "       sepal_length  sepal_width  petal_length  petal_width\n",
      "count    150.000000   150.000000    150.000000   150.000000\n",
      "mean       5.843333     3.057333      3.758000     1.199333\n",
      "std        0.828066     0.435866      1.765298     0.762238\n",
      "min        4.300000     2.000000      1.000000     0.100000\n",
      "25%        5.100000     2.800000      1.600000     0.300000\n",
      "50%        5.800000     3.000000      4.350000     1.300000\n",
      "75%        6.400000     3.300000      5.100000     1.800000\n",
      "max        7.900000     4.400000      6.900000     2.500000\n",
      "\n",
      "🔍 Checking for missing values in the dataset:\n",
      "sepal_length    0\n",
      "sepal_width     0\n",
      "petal_length    0\n",
      "petal_width     0\n",
      "species         0\n",
      "dtype: int64\n",
      "\n",
      "📜 Dataset Information:\n",
      "<class 'pandas.core.frame.DataFrame'>\n",
      "RangeIndex: 150 entries, 0 to 149\n",
      "Data columns (total 5 columns):\n",
      " #   Column        Non-Null Count  Dtype  \n",
      "---  ------        --------------  -----  \n",
      " 0   sepal_length  150 non-null    float64\n",
      " 1   sepal_width   150 non-null    float64\n",
      " 2   petal_length  150 non-null    float64\n",
      " 3   petal_width   150 non-null    float64\n",
      " 4   species       150 non-null    object \n",
      "dtypes: float64(4), object(1)\n",
      "memory usage: 6.0+ KB\n",
      "None\n",
      "\n",
      "🦉 Unique Iris species in the dataset:\n",
      "['setosa' 'versicolor' 'virginica']\n"
     ]
    }
   ],
   "source": [
    "# Import pandas library for data handling\n",
    "import pandas as pd  \n",
    "\n",
    "# Load the Iris dataset from an online source\n",
    "try:\n",
    "    iris = pd.read_csv('https://raw.githubusercontent.com/mwaskom/seaborn-data/master/iris.csv')\n",
    "    print(\"✅ Dataset successfully loaded!\")\n",
    "except Exception as e:\n",
    "    print(\"❌ Error loading dataset:\", e)\n",
    "    exit()  # Exit the script if data loading fails\n",
    "\n",
    "# Display the first 5 rows of the dataset\n",
    "print(\"\\n🌸 First 5 blooms in the Iris dataset:\")\n",
    "print(iris.head())  # Shows the first few entries\n",
    "\n",
    "# Provide a statistical summary of numerical columns\n",
    "print(\"\\n🔢 Magical summary of numerical features:\")\n",
    "print(iris.describe())  # Summary statistics (count, mean, std, min, max, etc.)\n",
    "\n",
    "# Check for missing values in the dataset\n",
    "print(\"\\n🔍 Checking for missing values in the dataset:\")\n",
    "missing_values = iris.isnull().sum()\n",
    "print(missing_values)\n",
    "\n",
    "# Display dataset information, including data types and memory usage\n",
    "print(\"\\n📜 Dataset Information:\")\n",
    "print(iris.info())\n",
    "\n",
    "# Show unique species available in the dataset\n",
    "print(\"\\n🦉 Unique Iris species in the dataset:\")\n",
    "print(iris['species'].unique())  # Displays unique species names  "
   ]
  },
  {
   "cell_type": "code",
   "execution_count": 10,
   "id": "862303d6-a4a9-401d-9121-99dc22337190",
   "metadata": {},
   "outputs": [
    {
     "name": "stdout",
     "output_type": "stream",
     "text": [
      "First 5 blooms:\n",
      "   sepal_length  sepal_width  petal_length  petal_width species\n",
      "0           5.1          3.5           1.4          0.2  setosa\n",
      "1           4.9          3.0           1.4          0.2  setosa\n",
      "2           4.7          3.2           1.3          0.2  setosa\n",
      "3           4.6          3.1           1.5          0.2  setosa\n",
      "4           5.0          3.6           1.4          0.2  setosa\n",
      "\n",
      "Magical summary:\n",
      "       sepal_length  sepal_width  petal_length  petal_width\n",
      "count    150.000000   150.000000    150.000000   150.000000\n",
      "mean       5.843333     3.057333      3.758000     1.199333\n",
      "std        0.828066     0.435866      1.765298     0.762238\n",
      "min        4.300000     2.000000      1.000000     0.100000\n",
      "25%        5.100000     2.800000      1.600000     0.300000\n",
      "50%        5.800000     3.000000      4.350000     1.300000\n",
      "75%        6.400000     3.300000      5.100000     1.800000\n",
      "max        7.900000     4.400000      6.900000     2.500000\n"
     ]
    }
   ],
   "source": [
    "# Summon our owl, pandas, and the Iris scroll  \n",
    "import pandas as pd  \n",
    "iris = pd.read_csv('https://raw.githubusercontent.com/mwaskom/seaborn-data/master/iris.csv')  \n",
    "\n",
    "# Cast Lumos with head()—peek at the first 5 flowers  \n",
    "print(\"First 5 blooms:\")  \n",
    "print(iris.head())  \n",
    "\n",
    "# Wave the wand with describe()—reveal the numbers’ secrets  \n",
    "print(\"\\nMagical summary:\")  \n",
    "print(iris.describe())"
   ]
  },
  {
   "cell_type": "markdown",
   "id": "db05f142-7cd3-44bf-a359-a121a9754f25",
   "metadata": {},
   "source": [
    "Run this, and—*poof!*—the screen glows with five flower rows and a summary of their traits: counts, averages, and ranges, like a Hogwarts report card!  \n",
    "\n",
    "Gemika gasps, “_It’s like the flowers are talking!_” Indeed, my young wizard—`head()` shows us a glimpse, while `describe()` spills the beans: how many flowers `(150!)`, their smallest petal `(1.0!)`, their biggest sepal `(7.9!)`. It’s like asking Professor Flitwick to summarize a charm—quick, clear, and dazzling. This is our *Revelio* spell, uncovering the dataset’s heartbeat!  \n",
    "\n",
    "Think of this as potion prep: before brewing, we check our ingredients. EDA with `head()` and `describe()` is our first stir of the cauldron, simple yet powerful—like levitating a feather with _Wingardium Leviosa_. Soon, we’ll add fancier spells, but for now, let’s marvel at these numbers dancing before us! 🧙‍♂️📊"
   ]
  },
  {
   "cell_type": "markdown",
   "id": "21c3e4f3-7be9-4efb-b2d3-7c24ef0027b0",
   "metadata": {},
   "source": [
    "---"
   ]
  },
  {
   "cell_type": "markdown",
   "id": "2b3bb0c4-7be7-4710-ad86-0dbc0e8075e6",
   "metadata": {},
   "source": [
    "### 2.2 Hogwarts Application"
   ]
  },
  {
   "cell_type": "markdown",
   "id": "0c0c5896-2e2f-4ad1-b67e-79cffa5c5ac2",
   "metadata": {},
   "source": [
    "Imagine Hagrid lumbering into the Great Hall, his beard full of twigs, pleading, “_Gerry, I need help sortin’ me magical creatures for class_!” With EDA, we can peek at their traits just like we do with Iris flowers. Are [Hippogriffs](https://harrypotter.fandom.com/wiki/Hippogriff) taller than [Thestrals](https://harrypotter.fandom.com/wiki/Thestral)? Do Bowtruckles have shorter claws than Nifflers? Our `head()` spell spots the first few, and `describe()` tells us their averages—perfect for Hagrid’s lesson plans!  \n",
    "\n",
    "Gemika bounces, “Can we spy on dragons too, Dad?” Oh, yes! Picture us sneaking into the Triwizard Tournament, using EDA to measure dragon wingspans or fire-breath range. It’s not just creatures—EDA could count Chocolate Frogs in Honeydukes or track broomstick speeds for Quidditch tryouts. Wherever there’s mystery at Hogwarts, our sneaky peek spell saves the day!  \n",
    "\n",
    "This is wizardry for the curious—like Fred and George plotting pranks. By exploring data, we help Hagrid, cheer Harry at Quidditch, or even sneak a peek at Snape’s potion stash (don’t tell him!). EDA turns numbers into stories, and at Hogwarts, every story’s a spell waiting to be cast! 🐉🌟  "
   ]
  },
  {
   "cell_type": "markdown",
   "id": "518e8fd2-981b-4e67-91ca-34e80d471f64",
   "metadata": {},
   "source": [
    "---"
   ]
  },
  {
   "cell_type": "markdown",
   "id": "dff204a8-cd69-4fec-8bb4-48be08cf151c",
   "metadata": {},
   "source": [
    "### 2.3 Quiz from Gemika Haziq Nugroho  "
   ]
  },
  {
   "cell_type": "markdown",
   "id": "9ff6bc1e-0ad6-4eca-a8e5-de5256b3d3fb",
   "metadata": {},
   "source": [
    "Gemika twirls his wand, grinning like a Cheshire Cat. “Abi, how do we know what the numbers are whispering? Are they secrets from the flowers?”  \n",
    "\n",
    "- **A)** They’re just boring numbers with no meaning, like Peeves’ bad jokes.  \n",
    "- **B)** They tell us about the flowers’ sizes and shapes, like clues in a riddle!  \n",
    "- **C)** They’re passwords to the Slytherin common room—shh, don’t tell Draco!  \n",
    "\n",
    "What’s your answer, clever witch or wizard? Hint: Think of what *Lumos* shows us in the dark! 🦁🪄"
   ]
  },
  {
   "cell_type": "markdown",
   "id": "9cc8fb24-f365-4582-9f7e-7db56a6527fe",
   "metadata": {},
   "source": [
    "---"
   ]
  },
  {
   "cell_type": "markdown",
   "id": "17a3d8ad-6696-4f9f-806e-b193d8befb05",
   "metadata": {},
   "source": [
    "### 2.4 Next Chapter: A Cauldron of Colors Awaits!"
   ]
  },
  {
   "cell_type": "markdown",
   "id": "7e768dad-7b66-48d6-ad32-c0db390f2d33",
   "metadata": {},
   "source": [
    "Hold tight to your broomsticks, because next we’re brewing a potion of interactive visualizations! We’ll stir up dazzling charts with `seaborn` and `plotly`—think moving portraits or a Quidditch pitch map! It’ll be so grand, even Draco Malfoy might sneak a peek. Get ready for colors, giggles, and maybe a dragon-sized surprise!"
   ]
  }
 ],
 "metadata": {
  "kernelspec": {
   "display_name": "Python 3 (ipykernel)",
   "language": "python",
   "name": "python3"
  },
  "language_info": {
   "codemirror_mode": {
    "name": "ipython",
    "version": 3
   },
   "file_extension": ".py",
   "mimetype": "text/x-python",
   "name": "python",
   "nbconvert_exporter": "python",
   "pygments_lexer": "ipython3",
   "version": "3.8.0"
  }
 },
 "nbformat": 4,
 "nbformat_minor": 5
}
