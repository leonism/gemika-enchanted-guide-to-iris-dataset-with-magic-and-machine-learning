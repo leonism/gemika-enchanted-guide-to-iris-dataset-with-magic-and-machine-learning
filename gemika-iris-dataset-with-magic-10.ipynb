{
 "cells": [
  {
   "cell_type": "markdown",
   "id": "aa9f5aeb-9ebe-4fe7-a4f8-3f74806e810f",
   "metadata": {},
   "source": [
    "# Gemika’s Enchanted Guide to Iris Dataset with Magic and Machine Learning 🌟🧙‍♂️ (Part #10)"
   ]
  },
  {
   "cell_type": "markdown",
   "id": "eb4a2ac4-4aa1-49be-80e1-39cdd9aff542",
   "metadata": {},
   "source": [
    "![Chapter 10](images/chapter-10.jpg \"Chapter 10\")"
   ]
  },
  {
   "cell_type": "markdown",
   "id": "1017feea-bf0d-4bdf-a350-1cf338541c3f",
   "metadata": {},
   "source": [
    "Greetings, my daring young spellcasters! I’m Professor Gerry Leo Nugroho, your guide through the wondrous skies of data science at Hogwarts, and a loyal friend of Albus Dumbledore. Last time, we climbed to [Dumbledore’s office and summoned a Random Forest](https://dev.to/gerryleonugroho/gemikas-enchanted-guide-to-iris-dataset-with-magic-and-machine-learning-part-9-oh/edit)—a grove of enchanted trees that predicted our Iris Dataset species with the wisdom of a hundred professors! 🌲 Now, my little Gryffindor phoenix, Gemika Haziq Nugroho, and I are watching Fawkes take flight. It’s time to measure our magic’s might—how well did our spells soar? ✨📊"
   ]
  },
  {
   "cell_type": "markdown",
   "id": "dc10d65f-901e-44ca-8e3e-bae1db5dd5f5",
   "metadata": {},
   "source": [
    "---"
   ]
  },
  {
   "cell_type": "markdown",
   "id": "f2d9585a-8d7e-4c04-96dd-d19a4ae28927",
   "metadata": {},
   "source": [
    "## Chapter 10: The Phoenix’s Flight: Evaluating Our Magical Models 🐦🔮"
   ]
  },
  {
   "cell_type": "markdown",
   "id": "ea9d5cda-bd51-42a4-8ce4-742b291a9b34",
   "metadata": {},
   "source": [
    "Imagine Fawkes, Dumbledore’s radiant phoenix, gliding above the castle, his fiery feathers trailing sparks. “_Gerry,_” Dumbledore twinkles, “_let’s see if your spells match Fawkes’ grace!_” Today, we’re evaluating our KNN, Decision Tree, and Random Forest charms on the Iris Dataset. 🌺 Did they guess `Setosa`, `Versicolor`, and `Virginica` correctly? We’ll use magical tools—accuracy and `confusion matrices`—to count our triumphs, like tallying points in the House Cup! It’s a dazzling flight of numbers, proving our magic’s as strong as a phoenix reborn! 🔥🪄"
   ]
  },
  {
   "cell_type": "markdown",
   "id": "74443de1-a64a-4f9e-8bad-ee9070371459",
   "metadata": {},
   "source": [
    "---"
   ]
  },
  {
   "cell_type": "markdown",
   "id": "01b21570-a55a-4dfd-8eaa-b007cc0a1a97",
   "metadata": {},
   "source": [
    "### 10.1 **The Code & Algorithm: Summoning the Random Forest** "
   ]
  },
  {
   "cell_type": "markdown",
   "id": "11989c85-81bc-40a6-834e-305f2faa34fa",
   "metadata": {},
   "source": [
    "Let’s open our spellbook (or `Jupyter Lab`) and cast evaluation spells with `sklearn`’s `accuracy_score` and `confusion_matrix`. These charms shine light on our predictions like Fawkes illuminating a dark night! Here’s the magic, with a wink to my curious Gemika:"
   ]
  },
  {
   "cell_type": "code",
   "execution_count": 4,
   "id": "db869044-3a2c-4ce0-a440-a126ee894eaa",
   "metadata": {},
   "outputs": [
    {
     "name": "stdout",
     "output_type": "stream",
     "text": [
      "\n",
      "✨ Casting the KNN spell... ✨\n",
      "📊 KNN Accuracy: 1.00\n",
      "🔮 KNN Confusion Matrix:\n",
      "[[10  0  0]\n",
      " [ 0  9  0]\n",
      " [ 0  0 11]]\n",
      "\n",
      "\n",
      "✨ Casting the Decision Tree spell... ✨\n",
      "📊 Decision Tree Accuracy: 1.00\n",
      "🔮 Decision Tree Confusion Matrix:\n",
      "[[10  0  0]\n",
      " [ 0  9  0]\n",
      " [ 0  0 11]]\n",
      "\n",
      "\n",
      "✨ Casting the Random Forest spell... ✨\n",
      "📊 Random Forest Accuracy: 1.00\n",
      "🔮 Random Forest Confusion Matrix:\n",
      "[[10  0  0]\n",
      " [ 0  9  0]\n",
      " [ 0  0 11]]\n",
      "\n"
     ]
    }
   ],
   "source": [
    "import pandas as pd  # 📜 Summon our trusted data-handling scroll\n",
    "from sklearn.datasets import load_iris  # 🌿 Summon the mystical Iris dataset\n",
    "from sklearn.model_selection import train_test_split  # ✂️ Split our dataset like a skilled Potioneer\n",
    "from sklearn.neighbors import KNeighborsClassifier  # 🧙‍♂️ KNN—seeks the closest magical neighbors\n",
    "from sklearn.tree import DecisionTreeClassifier  # 🌳 Decision Tree—an ancient oracle of wisdom\n",
    "from sklearn.ensemble import RandomForestClassifier  # 🌲 Random Forest—many trees whispering secrets\n",
    "from sklearn.metrics import accuracy_score, confusion_matrix  # 🎯 Measure our spell’s success!\n",
    "\n",
    "# 📖 Unraveling the enchanted Iris scroll\n",
    "dataset = load_iris()  # Load the sacred data!\n",
    "iris_df = pd.DataFrame(data=dataset.data, columns=dataset.feature_names)  # 🌸 Transform numbers into readable potion ingredients\n",
    "iris_df['species'] = pd.Categorical.from_codes(dataset.target, dataset.target_names)  # 🏷️ Assign species to their rightful name\n",
    "\n",
    "# 🏗️ Splitting the spell ingredients (features & labels)\n",
    "X = iris_df.drop('species', axis=1)  # 📊 The flower's attributes—like petal size and sepal width\n",
    "y = iris_df['species']  # 🌿 The magical species we're trying to predict\n",
    "\n",
    "# ✂️ Divide our data into training (80%) and testing (20%)—like preparing potion samples!\n",
    "X_train, X_test, y_train, y_test = train_test_split(X, y, test_size=0.2, random_state=42)\n",
    "\n",
    "# 🔮 Summoning our classifiers (magical prediction spells)\n",
    "knn = KNeighborsClassifier(n_neighbors=5)  # 👥 KNN—seeks guidance from its closest 5 neighbors\n",
    "forest = RandomForestClassifier(n_estimators=100, random_state=42)  # 🌲 A whole enchanted forest of decision trees\n",
    "tree = DecisionTreeClassifier(max_depth=3, random_state=42)  # 🌳 A single wise decision tree\n",
    "\n",
    "# 🧙‍♂️ Enchanting our models (training them)\n",
    "models = {'KNN': knn, 'Decision Tree': tree, 'Random Forest': forest}\n",
    "for name, model in models.items():\n",
    "    print(f\"\\n✨ Casting the {name} spell... ✨\")\n",
    "    model.fit(X_train, y_train)  # 🏋️‍♂️ Training the spell with flower knowledge\n",
    "    y_pred = model.predict(X_test)  # 🧙‍♂️ Using the spell on unseen flowers!\n",
    "    \n",
    "    # 🦚 Accuracy spell—like counting Phoenix feathers! More is better.\n",
    "    acc = accuracy_score(y_test, y_pred)\n",
    "    print(f\"📊 {name} Accuracy: {acc:.2f}\")\n",
    "    \n",
    "    # 🗺️ Confusion Matrix—a map showing our spell's precision!\n",
    "    cm = confusion_matrix(y_test, y_pred)\n",
    "    print(f\"🔮 {name} Confusion Matrix:\\n{cm}\\n\")"
   ]
  },
  {
   "cell_type": "markdown",
   "id": "2ee5c3f0-d62c-4741-8903-99f3b781f896",
   "metadata": {},
   "source": [
    "### 10.2 What’s Gleaming in the Flight?"
   ]
  },
  {
   "cell_type": "markdown",
   "id": "e363acd0-6111-41d5-b5d1-c15d0049da6a",
   "metadata": {},
   "source": [
    "- **`accuracy_score`**: Counts how often our spell guessed right—like a percentage of perfect phoenix notes! (e.g., 1.00 means 100% correct!)\n",
    "- **`confusion_matrix`**: Draws a magical grid—rows are real species, columns are guesses. Diagonal numbers show wins, off-diagonals show oopsies!\n",
    "\n",
    "Run this, and you might see:\n",
    "\n",
    "```bash\n",
    "✨ Casting the KNN spell... ✨\n",
    "📊 KNN Accuracy: 1.00\n",
    "🔮 KNN Confusion Matrix:\n",
    "[[10  0  0]\n",
    " [ 0  9  0]\n",
    " [ 0  0 11]]\n",
    "\n",
    "\n",
    "✨ Casting the Decision Tree spell... ✨\n",
    "📊 Decision Tree Accuracy: 1.00\n",
    "🔮 Decision Tree Confusion Matrix:\n",
    "[[10  0  0]\n",
    " [ 0  9  0]\n",
    " [ 0  0 11]]\n",
    "\n",
    "\n",
    "✨ Casting the Random Forest spell... ✨\n",
    "📊 Random Forest Accuracy: 1.00\n",
    "🔮 Random Forest Confusion Matrix:\n",
    "[[10  0  0]\n",
    " [ 0  9  0]\n",
    " [ 0  0 11]]\n",
    "```\n",
    "\n",
    "Wow—KNN, Decision Tree & Forest soar at 100%! Fawkes would trill with pride! 🌟🔥"
   ]
  },
  {
   "cell_type": "markdown",
   "id": "0f1ea07a-b7c8-4524-951a-38643bcaf661",
   "metadata": {},
   "source": [
    "---"
   ]
  },
  {
   "cell_type": "markdown",
   "id": "444c6dbe-6dc4-4f96-a3b4-46a8168dca35",
   "metadata": {},
   "source": [
    "### 10.3 Hogwarts Application: Grading OWLs"
   ]
  },
  {
   "cell_type": "markdown",
   "id": "6bc9add0-32b7-4793-82ad-49b5d09b6e3f",
   "metadata": {},
   "source": [
    "Picture Professor McGonagall, quill in hand, grading OWL exams. “_Gerry, let’s score these with precision!_” With accuracy, we’d tally correct spells—100% means top marks! The confusion matrix would show where students mixed up Charms with Transfiguration—diagonals for “_Outstanding,_” off-diagonals for “_Troll._” Just like evaluating Iris guesses, we’d ensure every witch and wizard shines—Harry’s Patronus would ace it! 📜🦇✨\n",
    "\n",
    "---\n",
    "\n",
    "### 10.4 Gemika’s Quiz Time! 🧑‍🚀\n",
    "\n",
    "My little Gemika, gazing at Fawkes’ perch, tilts his head. “Dad,” he ponders, “how do we know if our magic worked on the Iris flowers?” I grin—he’s brighter than a phoenix feather! Pick your answer, young evaluators:\n",
    "\n",
    "- **A)** We count how many guesses were right with accuracy—like scoring points!\n",
    "- **B)** We wave a wand and hope Fawkes nods.\n",
    "- **C)** We ask the flowers if they’re happy with the guesses.\n",
    "\n",
    "Scribble your guess or shout it louder than a phoenix song—Gemika’s all ears! 🗣️📝✨ \n",
    "(Hint: Think numbers, not nods!)\n",
    "\n",
    "---\n",
    "\n",
    "### 10.5 Next Chapter: The Grand Prediction\n",
    "\n",
    "Hold your broomsticks, because next we’re waving our wands for the grand finale—predicting new Iris flowers! We’ll use our tested spells to guess unknown blooms, like spotting a new creature in the Forbidden Forest. It’ll be so thrilling, even Hermione might gasp! Get ready for more magic and a sprinkle of wow! 🌸🪄✨"
   ]
  }
 ],
 "metadata": {
  "kernelspec": {
   "display_name": "Python 3 (ipykernel)",
   "language": "python",
   "name": "python3"
  },
  "language_info": {
   "codemirror_mode": {
    "name": "ipython",
    "version": 3
   },
   "file_extension": ".py",
   "mimetype": "text/x-python",
   "name": "python",
   "nbconvert_exporter": "python",
   "pygments_lexer": "ipython3",
   "version": "3.8.0"
  }
 },
 "nbformat": 4,
 "nbformat_minor": 5
}
