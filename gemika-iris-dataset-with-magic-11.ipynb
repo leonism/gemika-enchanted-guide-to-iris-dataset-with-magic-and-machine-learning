{
 "cells": [
  {
   "cell_type": "markdown",
   "id": "aa9f5aeb-9ebe-4fe7-a4f8-3f74806e810f",
   "metadata": {},
   "source": [
    "# Gemika’s Enchanted Guide to Iris Dataset with Magic and Machine Learning 🌟🧙‍♂️ (Part #11)"
   ]
  },
  {
   "cell_type": "markdown",
   "id": "eb4a2ac4-4aa1-49be-80e1-39cdd9aff542",
   "metadata": {},
   "source": [
    "![Chapter 11](images/chapter-11.jpg \"Chapter 11\")"
   ]
  },
  {
   "cell_type": "markdown",
   "id": "1017feea-bf0d-4bdf-a350-1cf338541c3f",
   "metadata": {},
   "source": [
    "Welcome back, my dazzling young spellcasters! I’m Professor Gerry Leo Nugroho, your guide through the magical peaks of data science at Hogwarts, and a steadfast friend of Albus Dumbledore. Last time, we soared with Fawkes, evaluating our KNN, Decision Tree, and Random Forest spells on the Iris Dataset—their accuracy blazing like phoenix fire! 🔥\n",
    "\n",
    "Now, my little Gryffindor star, Gemika Haziq Nugroho, and I are slipping into the Room of Requirement. It’s time for the grand finale—predicting new Iris flowers with all our wizardly might combined! ✨🪄"
   ]
  },
  {
   "cell_type": "markdown",
   "id": "dc10d65f-901e-44ca-8e3e-bae1db5dd5f5",
   "metadata": {},
   "source": [
    "---"
   ]
  },
  {
   "cell_type": "markdown",
   "id": "f2d9585a-8d7e-4c04-96dd-d19a4ae28927",
   "metadata": {},
   "source": [
    "## Chapter 11: The Grand Finale - Predicting New Iris Flowers with a Wizard’s Flair 🌸🎉"
   ]
  },
  {
   "cell_type": "markdown",
   "id": "ea9d5cda-bd51-42a4-8ce4-742b291a9b34",
   "metadata": {},
   "source": [
    "Imagine Fawkes, Dumbledore’s radiant phoenix, gliding above the castle, his fiery feathers trailing sparks. “_Gerry,_” Dumbledore twinkles, “_let’s see if your spells match Fawkes’ grace!_” Today, we’re evaluating our KNN, Decision Tree, and Random Forest charms on the Iris Dataset. 🌺 Did they guess `Setosa`, `Versicolor`, and `Virginica` correctly? We’ll use magical tools—accuracy and `confusion matrices`—to count our triumphs, like tallying points in the House Cup! It’s a dazzling flight of numbers, proving our magic’s as strong as a phoenix reborn! 🔥🪄"
   ]
  },
  {
   "cell_type": "markdown",
   "id": "74443de1-a64a-4f9e-8bad-ee9070371459",
   "metadata": {},
   "source": [
    "---"
   ]
  },
  {
   "cell_type": "markdown",
   "id": "01b21570-a55a-4dfd-8eaa-b007cc0a1a97",
   "metadata": {},
   "source": [
    "### 10.1 **The Code & Algorithm: Summoning the Random Forest** "
   ]
  },
  {
   "cell_type": "markdown",
   "id": "11989c85-81bc-40a6-834e-305f2faa34fa",
   "metadata": {},
   "source": [
    "Let’s open our spellbook (or `Jupyter Lab`) and cast evaluation spells with `sklearn`’s `accuracy_score` and `confusion_matrix`. These charms shine light on our predictions like Fawkes illuminating a dark night! Here’s the magic, with a wink to my curious Gemika:"
   ]
  },
  {
   "cell_type": "code",
   "execution_count": 2,
   "id": "db869044-3a2c-4ce0-a440-a126ee894eaa",
   "metadata": {},
   "outputs": [
    {
     "name": "stdout",
     "output_type": "stream",
     "text": [
      "KNN has completed its wizard training! 🎓✨\n",
      "Decision Tree has completed its wizard training! 🎓✨\n",
      "Random Forest has completed its wizard training! 🎓✨\n",
      "\n",
      "🌟 Predicting the species of a new, magical bloom! 🌟\n",
      "KNN predicts: setosa 🧙‍♂️✨\n",
      "Decision Tree predicts: setosa 🧙‍♂️✨\n",
      "Random Forest predicts: setosa 🧙‍♂️✨\n"
     ]
    }
   ],
   "source": [
    "import pandas as pd  # 📜 Summon pandas, the magical scroll keeper of data!\n",
    "from sklearn.datasets import load_iris  # 🌸 Summon the enchanted Iris dataset!\n",
    "from sklearn.model_selection import train_test_split  # ✨ A spell to split our data into training and testing sets!\n",
    "from sklearn.neighbors import KNeighborsClassifier  # 🧙‍♂️ Summoning K-Nearest Neighbors, the friendly neighborhood predictor!\n",
    "from sklearn.tree import DecisionTreeClassifier  # 🌳 Summoning the Decision Tree, the wise old predictor!\n",
    "from sklearn.ensemble import RandomForestClassifier  # 🌲🌲 A whole enchanted forest of decision trees!\n",
    "\n",
    "# 🏰 Summon the legendary Iris dataset – a floral scroll of wisdom!\n",
    "iris = load_iris()\n",
    "\n",
    "# 📜 Transform the dataset into a DataFrame for easier spellcasting\n",
    "iris_df = pd.DataFrame(data=iris.data, columns=iris.feature_names)\n",
    "\n",
    "# 🎭 Assign species names instead of cryptic numbers\n",
    "iris_df['species'] = pd.Categorical.from_codes(iris.target, iris.target_names)\n",
    "\n",
    "# ✂️ Splitting our scroll into features (X) and magical labels (y)\n",
    "X = iris_df.drop('species', axis=1)  # Remove species column to keep only numerical features\n",
    "y = iris_df['species']  # Keep only the species names as our target\n",
    "\n",
    "# 🔮 Casting a spell to split our dataset (80% for training, 20% for testing)\n",
    "X_train, X_test, y_train, y_test = train_test_split(X, y, test_size=0.2, random_state=42)\n",
    "\n",
    "# 🧙‍♀️ Summoning three powerful models to predict our floral mysteries!\n",
    "knn = KNeighborsClassifier(n_neighbors=5)  # KNN: The neighborly wizard who looks at closest examples!\n",
    "tree = DecisionTreeClassifier(max_depth=3, random_state=42)  # Decision Tree: The ancient tree of knowledge!\n",
    "forest = RandomForestClassifier(n_estimators=100, random_state=42)  # Random Forest: A mystical grove of decision trees!\n",
    "\n",
    "# 📚 Store our models in a magical spellbook (dictionary)\n",
    "models = {'KNN': knn, 'Decision Tree': tree, 'Random Forest': forest}\n",
    "\n",
    "# 🏋️‍♂️ Training each model with our dataset to become wise in floral predictions!\n",
    "for name, model in models.items():\n",
    "    model.fit(X_train, y_train)  # 🛠️ Train the model using our training data!\n",
    "    print(f\"{name} has completed its wizard training! 🎓✨\")\n",
    "\n",
    "# 🧪 Spellcasting a prediction on a new, mysterious bloom!\n",
    "new_flower = [[5.0, 3.4, 1.5, 0.2]]  # 🌺 A mysterious flower with unknown species!\n",
    "new_flower_df = pd.DataFrame(new_flower, columns=iris.feature_names)  # Convert to DataFrame for prediction\n",
    "\n",
    "# 🔮 Asking each model to reveal the identity of the unknown flower!\n",
    "print(\"\\n🌟 Predicting the species of a new, magical bloom! 🌟\")\n",
    "for name, model in models.items():\n",
    "    prediction = model.predict(new_flower_df)  # Model makes a prediction\n",
    "    print(f\"{name} predicts: {prediction[0]} 🧙‍♂️✨\")"
   ]
  },
  {
   "cell_type": "markdown",
   "id": "2ee5c3f0-d62c-4741-8903-99f3b781f896",
   "metadata": {},
   "source": [
    "### 11.2 What’s Sparkling in the Spell?"
   ]
  },
  {
   "cell_type": "markdown",
   "id": "e363acd0-6111-41d5-b5d1-c15d0049da6a",
   "metadata": {},
   "source": [
    "- **`new_flower`**: A fresh Iris—5.0 cm sepal length, 3.4 cm sepal width, etc.—like a bloom plucked from the Hogwarts gardens!  \n",
    "- **`.predict(new_flower_df)`**: Each model casts its spell—KNN checks neighbors, Tree follows branches, Forest votes with its grove!  \n",
    "- **Output**: A guess—likely “setosa” for this one, based on its tiny petals!  \n",
    "\n",
    "Run this, and you might see:  \n",
    "\n",
    "```\n",
    "KNN predicts: setosa\n",
    "Decision Tree predicts: setosa\n",
    "Random Forest predicts: setosa\n",
    "```  \n",
    "\n",
    "A triple triumph—our magic’s in sync, like a choir of phoenixes! 🌟🎶  \n",
    "\n",
    "---"
   ]
  },
  {
   "cell_type": "markdown",
   "id": "7c0f9d08-5df9-4b2b-95c4-0395aa9ab0d0",
   "metadata": {},
   "source": [
    "### 11.3 And The Three Professors Predict\n",
    "\n",
    "The Great Hall was silent, save for the occasional rustling of parchment and the distant hoot of an owl. Three wizards—masters of ancient predictive arts—stood before a single, unassuming bloom, its petals trembling under the weight of destiny. 🌺✨  \n",
    "\n",
    "**Professor KNN**, the ever-watchful guardian of nearest neighbors, adjusted his spectacles and nodded sagely. “Ah, yes. I have consulted the whispers of the flowers past. This one… belongs to *Setosa!*” He tapped his wand against his scroll, and the name shimmered in the air. 🧙‍♂️📜  \n",
    "\n",
    "Beside him, the venerable **Professor Decision Tree**, his long robes embroidered with branching patterns of wisdom, furrowed his brow. “Indeed,” he intoned, tracing invisible paths through the air, “the petals align, the sepals whisper… *Setosa!*” His voice echoed like the rustling of ancient leaves, his judgment firm as oak. 🌳✨  \n",
    "\n",
    "Finally, from the depths of the **Forbidden Forest**, where shadows danced between towering boughs, came the enigmatic Random Forest. The murmurs of a hundred trees whispered in unison, their voices intertwining into a single, unwavering decree: “*Setosa!*” 🌲🌲🌲  \n",
    "\n",
    "A hush fell over the hall. The prediction had been made, thrice confirmed, as if spoken by the very Sorting Hat itself. The magical bloom belonged not to the bold *`Versicolor`* nor the mysterious *`Virginica`*, but to the noble *`Setosa`*!  \n",
    "\n",
    "Dumbledore himself, watching from the high table, gave a slow, knowing nod. “Fascinating,” he murmured, eyes twinkling like the stars above. “Even in the world of numbers and patterns, magic and wisdom go hand in hand.” ✨  \n",
    "\n",
    "And so, the scroll was sealed, the spell complete, and the mystical art of machine learning had once again proven its place in the grand halls of Hogwarts.  "
   ]
  },
  {
   "cell_type": "markdown",
   "id": "0f1ea07a-b7c8-4524-951a-38643bcaf661",
   "metadata": {},
   "source": [
    "### 11.3 Hogwarts Application: Guessing Hagrid’s Next Creature  "
   ]
  },
  {
   "cell_type": "markdown",
   "id": "444c6dbe-6dc4-4f96-a3b4-46a8168dca35",
   "metadata": {},
   "source": [
    "Picture Hagrid bursting in, dirt on his boots, grinning, _“Gerry, what’s me next critter gonna be?”_\n",
    "\n",
    "With our prediction spells, we’d measure traits—claw size, fire-breathing odds, cuddle factor—and guess: dragon, hippogriff, or niffler? Just like predicting Irises, our models would sift the clues—KNN finding similar beasts, Trees branching through quirks, Forest voting with wisdom. Hagrid might end up with a fluffy surprise—or a fiery one! 🐉🦇✨ "
   ]
  },
  {
   "cell_type": "markdown",
   "id": "6bc9add0-32b7-4793-82ad-49b5d09b6e3f",
   "metadata": {},
   "source": [
    "---"
   ]
  },
  {
   "cell_type": "markdown",
   "id": "58adfb25-4ab7-494e-b652-101841b6fe7b",
   "metadata": {},
   "source": [
    "### 11.4 Gemika’s Quiz Time! 🧑‍🚀  "
   ]
  },
  {
   "cell_type": "markdown",
   "id": "3e190523-a66e-4f1a-88cc-9cf1ad8f5442",
   "metadata": {},
   "source": [
    "My little Gemika, eyes wide as a mooncalf, tugs my sleeve. “Dad,” he asks, “can we use our magic to find a new Iris flower?” I beam—he’s a wizard in the making! Pick your answer, young predictors:  \n",
    "\n",
    "- **A)** Yes, by giving our trained spells new flower traits to guess—like a crystal ball!  \n",
    "- **B)** No, we need to ask Professor Sprout first.  \n",
    "- **C)** Only if we wave a wand and say *Accio Flower*.  \n",
    "\n",
    "Scribble your guess or shout it louder than a Room of Requirement echo—Gemika’s bouncing for your reply! 🗣️📝✨ (Hint: Think spells, not summons!)  "
   ]
  },
  {
   "cell_type": "markdown",
   "id": "aae9ceea-06c6-49e3-adb5-4cacd40f5a38",
   "metadata": {},
   "source": [
    "---"
   ]
  },
  {
   "cell_type": "markdown",
   "id": "94b5fc65-f5a1-4759-be9f-d1ff59e622de",
   "metadata": {},
   "source": [
    "### 11.5 Next Chapter: The Wizard’s Legacy  \n",
    "\n",
    "Hold your broomsticks, because next we’re wrapping up with a flourish—exploring how our data magic lives beyond Hogwarts! We’ll connect it to real-world wonders, like a legacy for young witches and wizards. It’ll be so inspiring, even Neville might take notes! Get ready for one last adventure and a sprinkle of awe! 🏰🪄✨  "
   ]
  }
 ],
 "metadata": {
  "kernelspec": {
   "display_name": "Python 3 (ipykernel)",
   "language": "python",
   "name": "python3"
  },
  "language_info": {
   "codemirror_mode": {
    "name": "ipython",
    "version": 3
   },
   "file_extension": ".py",
   "mimetype": "text/x-python",
   "name": "python",
   "nbconvert_exporter": "python",
   "pygments_lexer": "ipython3",
   "version": "3.8.0"
  }
 },
 "nbformat": 4,
 "nbformat_minor": 5
}
